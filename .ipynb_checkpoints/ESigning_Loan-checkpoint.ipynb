{
 "cells": [
  {
   "cell_type": "markdown",
   "metadata": {},
   "source": [
    "<center><h1>E-Signing of Loan Based on Financial History</h1></center>"
   ]
  },
  {
   "cell_type": "markdown",
   "metadata": {},
   "source": [
    "<div>\n",
    "<img src=\"img/logo.jpg\" width=\"900\"/>\n",
    "</div>"
   ]
  },
  {
   "cell_type": "markdown",
   "metadata": {},
   "source": [
    "<h4>ESignature:</h4>\n",
    "<br>\n",
    "<p style=\"text-indent:5em\">Electronic signatures aren’t exactly a novelty. They have been around since the American Civil War, during which contracts were signed through Morse. In a modern setting, an e-Sign refers to a unique, digitised, encrypted personal identifier. This is, in essence, different from the ‘wet’ signatures created by hand. The e-Sign is meant to complete transactions, loops, and agreements electronically.</p>\n",
    "\n",
    "<p style=\"text-indent:5em\">In India, the e-Sign has been granted legal status by amendments to various laws, namely the Information Technology Act, Indian Evidence Act and the Negotiable Instruments Act. Early adopters in the financial sector have started using e-Sign to get customers to sign loan and card applications, and loan agreements.</p>\n",
    "\n",
    "\n",
    "<h4>About the Projects:</h4>\n",
    "<p style=\"text-indent:5em\">The project deals with predicting the likelihood of E-Signing a loan based on financial history.\n",
    "The e-signing technique is used in this project. If the user really wants the loan  he  should proceed through  e-signing technique. The bank checks the user’s financial history if it is good then only the user will get the loan.  Many lending   companies   provide   hundreds of loans  every  day,  gaining  money  for  each one.Thus the project can help them in knowing whether it is risky to give loan to the customer or not.</p>\n",
    "\n",
    "\n",
    "<br>\n",
    "<h4>Models implemented:</h4>\n",
    "\n",
    "<ul>\n",
    "    <li>Artificial Neural Network</li>\n",
    "    <li>Random Forest Classifier</li>\n",
    "    <li>Gradieng Boosting</li>\n",
    "    <li>Support Vector Machine</li>\n",
    "    <li>Xg Boost</li>\n",
    "</ul>"
   ]
  },
  {
   "cell_type": "markdown",
   "metadata": {},
   "source": [
    "### Importing the Library"
   ]
  },
  {
   "cell_type": "code",
   "execution_count": 1,
   "metadata": {},
   "outputs": [],
   "source": [
    "#importing library for reading, writing and perform basic operations\n",
    "import pandas as pd\n",
    "import numpy as np\n",
    "\n",
    "#Importing library for Visualization\n",
    "import matplotlib.pyplot as plt\n",
    "import seaborn as sns\n",
    "%matplotlib inline\n",
    "\n",
    "#Importing library for splitting model into train and test and for data transformation\n",
    "from sklearn.model_selection import train_test_split\n",
    "from sklearn.preprocessing import StandardScaler\n",
    "\n",
    "#Importing the library for evaluating the model\n",
    "from sklearn.metrics import confusion_matrix,accuracy_score"
   ]
  },
  {
   "cell_type": "code",
   "execution_count": 2,
   "metadata": {},
   "outputs": [],
   "source": [
    "#Importing all the required model for model comparision\n",
    "from sklearn.ensemble import RandomForestClassifier, AdaBoostClassifier, GradientBoostingClassifier\n",
    "from sklearn.ensemble import  ExtraTreesClassifier, VotingClassifier\n",
    "from sklearn.discriminant_analysis import LinearDiscriminantAnalysis\n",
    "from sklearn.linear_model import LogisticRegression\n",
    "from sklearn.neighbors import KNeighborsClassifier\n",
    "from sklearn.tree import DecisionTreeClassifier\n",
    "from sklearn.neural_network import MLPClassifier\n",
    "from sklearn.svm import SVC\n",
    "\n",
    "#GridSearchCV= Exhaustive search over specified parameter values for an estimator. Important members are fit, predict.\n",
    "#cross_val_score= used for trainin model using crossvalidataion method\n",
    "#StratifiedFold=Provides train/test indices to split data in train/test sets\n",
    "from sklearn.model_selection import GridSearchCV, cross_val_score, StratifiedKFold, learning_curve"
   ]
  },
  {
   "cell_type": "markdown",
   "metadata": {},
   "source": [
    "### Reading the Data"
   ]
  },
  {
   "cell_type": "code",
   "execution_count": 3,
   "metadata": {},
   "outputs": [
    {
     "data": {
      "text/html": [
       "<div>\n",
       "<style scoped>\n",
       "    .dataframe tbody tr th:only-of-type {\n",
       "        vertical-align: middle;\n",
       "    }\n",
       "\n",
       "    .dataframe tbody tr th {\n",
       "        vertical-align: top;\n",
       "    }\n",
       "\n",
       "    .dataframe thead th {\n",
       "        text-align: right;\n",
       "    }\n",
       "</style>\n",
       "<table border=\"1\" class=\"dataframe\">\n",
       "  <thead>\n",
       "    <tr style=\"text-align: right;\">\n",
       "      <th></th>\n",
       "      <th>entry_id</th>\n",
       "      <th>age</th>\n",
       "      <th>pay_schedule</th>\n",
       "      <th>home_owner</th>\n",
       "      <th>income</th>\n",
       "      <th>months_employed</th>\n",
       "      <th>years_employed</th>\n",
       "      <th>current_address_year</th>\n",
       "      <th>personal_account_m</th>\n",
       "      <th>personal_account_y</th>\n",
       "      <th>...</th>\n",
       "      <th>amount_requested</th>\n",
       "      <th>risk_score</th>\n",
       "      <th>risk_score_2</th>\n",
       "      <th>risk_score_3</th>\n",
       "      <th>risk_score_4</th>\n",
       "      <th>risk_score_5</th>\n",
       "      <th>ext_quality_score</th>\n",
       "      <th>ext_quality_score_2</th>\n",
       "      <th>inquiries_last_month</th>\n",
       "      <th>e_signed</th>\n",
       "    </tr>\n",
       "  </thead>\n",
       "  <tbody>\n",
       "    <tr>\n",
       "      <th>0</th>\n",
       "      <td>7629673</td>\n",
       "      <td>40</td>\n",
       "      <td>bi-weekly</td>\n",
       "      <td>1</td>\n",
       "      <td>3135</td>\n",
       "      <td>0</td>\n",
       "      <td>3</td>\n",
       "      <td>3</td>\n",
       "      <td>6</td>\n",
       "      <td>2</td>\n",
       "      <td>...</td>\n",
       "      <td>550</td>\n",
       "      <td>36200</td>\n",
       "      <td>0.737398</td>\n",
       "      <td>0.903517</td>\n",
       "      <td>0.487712</td>\n",
       "      <td>0.515977</td>\n",
       "      <td>0.580918</td>\n",
       "      <td>0.380918</td>\n",
       "      <td>10</td>\n",
       "      <td>1</td>\n",
       "    </tr>\n",
       "    <tr>\n",
       "      <th>1</th>\n",
       "      <td>3560428</td>\n",
       "      <td>61</td>\n",
       "      <td>weekly</td>\n",
       "      <td>0</td>\n",
       "      <td>3180</td>\n",
       "      <td>0</td>\n",
       "      <td>6</td>\n",
       "      <td>3</td>\n",
       "      <td>2</td>\n",
       "      <td>7</td>\n",
       "      <td>...</td>\n",
       "      <td>600</td>\n",
       "      <td>30150</td>\n",
       "      <td>0.738510</td>\n",
       "      <td>0.881027</td>\n",
       "      <td>0.713423</td>\n",
       "      <td>0.826402</td>\n",
       "      <td>0.730720</td>\n",
       "      <td>0.630720</td>\n",
       "      <td>9</td>\n",
       "      <td>0</td>\n",
       "    </tr>\n",
       "    <tr>\n",
       "      <th>2</th>\n",
       "      <td>6934997</td>\n",
       "      <td>23</td>\n",
       "      <td>weekly</td>\n",
       "      <td>0</td>\n",
       "      <td>1540</td>\n",
       "      <td>6</td>\n",
       "      <td>0</td>\n",
       "      <td>0</td>\n",
       "      <td>7</td>\n",
       "      <td>1</td>\n",
       "      <td>...</td>\n",
       "      <td>450</td>\n",
       "      <td>34550</td>\n",
       "      <td>0.642993</td>\n",
       "      <td>0.766554</td>\n",
       "      <td>0.595018</td>\n",
       "      <td>0.762284</td>\n",
       "      <td>0.531712</td>\n",
       "      <td>0.531712</td>\n",
       "      <td>7</td>\n",
       "      <td>0</td>\n",
       "    </tr>\n",
       "    <tr>\n",
       "      <th>3</th>\n",
       "      <td>5682812</td>\n",
       "      <td>40</td>\n",
       "      <td>bi-weekly</td>\n",
       "      <td>0</td>\n",
       "      <td>5230</td>\n",
       "      <td>0</td>\n",
       "      <td>6</td>\n",
       "      <td>1</td>\n",
       "      <td>2</td>\n",
       "      <td>7</td>\n",
       "      <td>...</td>\n",
       "      <td>700</td>\n",
       "      <td>42150</td>\n",
       "      <td>0.665224</td>\n",
       "      <td>0.960832</td>\n",
       "      <td>0.767828</td>\n",
       "      <td>0.778831</td>\n",
       "      <td>0.792552</td>\n",
       "      <td>0.592552</td>\n",
       "      <td>8</td>\n",
       "      <td>1</td>\n",
       "    </tr>\n",
       "    <tr>\n",
       "      <th>4</th>\n",
       "      <td>5335819</td>\n",
       "      <td>33</td>\n",
       "      <td>semi-monthly</td>\n",
       "      <td>0</td>\n",
       "      <td>3590</td>\n",
       "      <td>0</td>\n",
       "      <td>5</td>\n",
       "      <td>2</td>\n",
       "      <td>2</td>\n",
       "      <td>8</td>\n",
       "      <td>...</td>\n",
       "      <td>1100</td>\n",
       "      <td>53850</td>\n",
       "      <td>0.617361</td>\n",
       "      <td>0.857560</td>\n",
       "      <td>0.613487</td>\n",
       "      <td>0.665523</td>\n",
       "      <td>0.744634</td>\n",
       "      <td>0.744634</td>\n",
       "      <td>12</td>\n",
       "      <td>0</td>\n",
       "    </tr>\n",
       "  </tbody>\n",
       "</table>\n",
       "<p>5 rows × 21 columns</p>\n",
       "</div>"
      ],
      "text/plain": [
       "   entry_id  age  pay_schedule  home_owner  income  months_employed  \\\n",
       "0   7629673   40     bi-weekly           1    3135                0   \n",
       "1   3560428   61        weekly           0    3180                0   \n",
       "2   6934997   23        weekly           0    1540                6   \n",
       "3   5682812   40     bi-weekly           0    5230                0   \n",
       "4   5335819   33  semi-monthly           0    3590                0   \n",
       "\n",
       "   years_employed  current_address_year  personal_account_m  \\\n",
       "0               3                     3                   6   \n",
       "1               6                     3                   2   \n",
       "2               0                     0                   7   \n",
       "3               6                     1                   2   \n",
       "4               5                     2                   2   \n",
       "\n",
       "   personal_account_y  ...  amount_requested  risk_score  risk_score_2  \\\n",
       "0                   2  ...               550       36200      0.737398   \n",
       "1                   7  ...               600       30150      0.738510   \n",
       "2                   1  ...               450       34550      0.642993   \n",
       "3                   7  ...               700       42150      0.665224   \n",
       "4                   8  ...              1100       53850      0.617361   \n",
       "\n",
       "   risk_score_3  risk_score_4  risk_score_5  ext_quality_score  \\\n",
       "0      0.903517      0.487712      0.515977           0.580918   \n",
       "1      0.881027      0.713423      0.826402           0.730720   \n",
       "2      0.766554      0.595018      0.762284           0.531712   \n",
       "3      0.960832      0.767828      0.778831           0.792552   \n",
       "4      0.857560      0.613487      0.665523           0.744634   \n",
       "\n",
       "   ext_quality_score_2  inquiries_last_month  e_signed  \n",
       "0             0.380918                    10         1  \n",
       "1             0.630720                     9         0  \n",
       "2             0.531712                     7         0  \n",
       "3             0.592552                     8         1  \n",
       "4             0.744634                    12         0  \n",
       "\n",
       "[5 rows x 21 columns]"
      ]
     },
     "execution_count": 3,
     "metadata": {},
     "output_type": "execute_result"
    }
   ],
   "source": [
    "df=pd.read_csv(\"financial_data.csv\")\n",
    "df.head()"
   ]
  },
  {
   "cell_type": "markdown",
   "metadata": {},
   "source": [
    "### Exploring the Data"
   ]
  },
  {
   "cell_type": "code",
   "execution_count": 4,
   "metadata": {},
   "outputs": [
    {
     "name": "stdout",
     "output_type": "stream",
     "text": [
      "9639\n",
      "8269\n"
     ]
    }
   ],
   "source": [
    "#Finding the count of each class of dependent variable\n",
    "print(sum(df[\"e_signed\"]==1))\n",
    "print(sum(df[\"e_signed\"]==0))"
   ]
  },
  {
   "cell_type": "code",
   "execution_count": 5,
   "metadata": {},
   "outputs": [
    {
     "data": {
      "text/html": [
       "<div>\n",
       "<style scoped>\n",
       "    .dataframe tbody tr th:only-of-type {\n",
       "        vertical-align: middle;\n",
       "    }\n",
       "\n",
       "    .dataframe tbody tr th {\n",
       "        vertical-align: top;\n",
       "    }\n",
       "\n",
       "    .dataframe thead th {\n",
       "        text-align: right;\n",
       "    }\n",
       "</style>\n",
       "<table border=\"1\" class=\"dataframe\">\n",
       "  <thead>\n",
       "    <tr style=\"text-align: right;\">\n",
       "      <th></th>\n",
       "      <th>percent_missing</th>\n",
       "    </tr>\n",
       "  </thead>\n",
       "  <tbody>\n",
       "    <tr>\n",
       "      <th>entry_id</th>\n",
       "      <td>0.0</td>\n",
       "    </tr>\n",
       "    <tr>\n",
       "      <th>age</th>\n",
       "      <td>0.0</td>\n",
       "    </tr>\n",
       "    <tr>\n",
       "      <th>pay_schedule</th>\n",
       "      <td>0.0</td>\n",
       "    </tr>\n",
       "    <tr>\n",
       "      <th>home_owner</th>\n",
       "      <td>0.0</td>\n",
       "    </tr>\n",
       "    <tr>\n",
       "      <th>income</th>\n",
       "      <td>0.0</td>\n",
       "    </tr>\n",
       "    <tr>\n",
       "      <th>months_employed</th>\n",
       "      <td>0.0</td>\n",
       "    </tr>\n",
       "    <tr>\n",
       "      <th>years_employed</th>\n",
       "      <td>0.0</td>\n",
       "    </tr>\n",
       "    <tr>\n",
       "      <th>current_address_year</th>\n",
       "      <td>0.0</td>\n",
       "    </tr>\n",
       "    <tr>\n",
       "      <th>personal_account_m</th>\n",
       "      <td>0.0</td>\n",
       "    </tr>\n",
       "    <tr>\n",
       "      <th>personal_account_y</th>\n",
       "      <td>0.0</td>\n",
       "    </tr>\n",
       "    <tr>\n",
       "      <th>has_debt</th>\n",
       "      <td>0.0</td>\n",
       "    </tr>\n",
       "    <tr>\n",
       "      <th>amount_requested</th>\n",
       "      <td>0.0</td>\n",
       "    </tr>\n",
       "    <tr>\n",
       "      <th>risk_score</th>\n",
       "      <td>0.0</td>\n",
       "    </tr>\n",
       "    <tr>\n",
       "      <th>risk_score_2</th>\n",
       "      <td>0.0</td>\n",
       "    </tr>\n",
       "    <tr>\n",
       "      <th>risk_score_3</th>\n",
       "      <td>0.0</td>\n",
       "    </tr>\n",
       "    <tr>\n",
       "      <th>risk_score_4</th>\n",
       "      <td>0.0</td>\n",
       "    </tr>\n",
       "    <tr>\n",
       "      <th>risk_score_5</th>\n",
       "      <td>0.0</td>\n",
       "    </tr>\n",
       "    <tr>\n",
       "      <th>ext_quality_score</th>\n",
       "      <td>0.0</td>\n",
       "    </tr>\n",
       "    <tr>\n",
       "      <th>ext_quality_score_2</th>\n",
       "      <td>0.0</td>\n",
       "    </tr>\n",
       "    <tr>\n",
       "      <th>inquiries_last_month</th>\n",
       "      <td>0.0</td>\n",
       "    </tr>\n",
       "    <tr>\n",
       "      <th>e_signed</th>\n",
       "      <td>0.0</td>\n",
       "    </tr>\n",
       "  </tbody>\n",
       "</table>\n",
       "</div>"
      ],
      "text/plain": [
       "                      percent_missing\n",
       "entry_id                          0.0\n",
       "age                               0.0\n",
       "pay_schedule                      0.0\n",
       "home_owner                        0.0\n",
       "income                            0.0\n",
       "months_employed                   0.0\n",
       "years_employed                    0.0\n",
       "current_address_year              0.0\n",
       "personal_account_m                0.0\n",
       "personal_account_y                0.0\n",
       "has_debt                          0.0\n",
       "amount_requested                  0.0\n",
       "risk_score                        0.0\n",
       "risk_score_2                      0.0\n",
       "risk_score_3                      0.0\n",
       "risk_score_4                      0.0\n",
       "risk_score_5                      0.0\n",
       "ext_quality_score                 0.0\n",
       "ext_quality_score_2               0.0\n",
       "inquiries_last_month              0.0\n",
       "e_signed                          0.0"
      ]
     },
     "execution_count": 5,
     "metadata": {},
     "output_type": "execute_result"
    }
   ],
   "source": [
    "#Checking for percentage of missing data in each column\n",
    "percent_missing = df.isnull().sum() * 100 / len(df)                #Calculating Percentage\n",
    "missing_value_df = pd.DataFrame({'percent_missing': percent_missing})          # Creating the DataFrame\n",
    "\n",
    "missing_value_df"
   ]
  },
  {
   "cell_type": "markdown",
   "metadata": {},
   "source": [
    "<p style=\"text-indent:5em\">We see that the data is not highly imbalanced since the ratio between the count of two classes of dependent variable is not so high."
   ]
  },
  {
   "cell_type": "code",
   "execution_count": 6,
   "metadata": {},
   "outputs": [
    {
     "data": {
      "image/png": "[encoded data removed]",
      "text/plain": [
       "<Figure size 1080x864 with 18 Axes>"
      ]
     },
     "metadata": {
      "needs_background": "light"
     },
     "output_type": "display_data"
    }
   ],
   "source": [
    "#Dropping the unnecessary columns\n",
    "dataset2 = df.drop(columns = ['entry_id', 'pay_schedule', 'e_signed'])\n",
    "\n",
    "#Setting the figure sie\n",
    "fig = plt.figure(figsize=(15, 12))\n",
    "\n",
    "#Plotting the subplots for all columns\n",
    "plt.suptitle('Histograms of Numerical Columns', fontsize=20)\n",
    "for i in range(dataset2.shape[1]):\n",
    "    plt.subplot(6, 3, i + 1)\n",
    "    f = plt.gca()\n",
    "    f.set_title(dataset2.columns.values[i])\n",
    "\n",
    "    vals = np.size(dataset2.iloc[:, i].unique())\n",
    "    if vals >= 100:\n",
    "        vals = 100\n",
    "#Plotting histogram\n",
    "    plt.hist(dataset2.iloc[:, i], bins=vals, color='#3F5D7D')\n",
    "#Setting layout\n",
    "plt.tight_layout(rect=[0, 0.03, 1, 0.95])"
   ]
  },
  {
   "cell_type": "code",
   "execution_count": 7,
   "metadata": {},
   "outputs": [
    {
     "data": {
      "text/plain": [
       "<matplotlib.axes._subplots.AxesSubplot at 0x1b3217bcba8>"
      ]
     },
     "execution_count": 7,
     "metadata": {},
     "output_type": "execute_result"
    },
    {
     "data": {
      "image/png": "[encoded data removed]",
      "text/plain": [
       "<Figure size 1440x720 with 1 Axes>"
      ]
     },
     "metadata": {
      "needs_background": "light"
     },
     "output_type": "display_data"
    }
   ],
   "source": [
    "#Correlation of independent variable with dependent variable\n",
    "\n",
    "dataset2.corrwith(df.e_signed).plot.bar(figsize=(20,10),title=\"correlation wigh E signed\",\n",
    "                                             fontsize=20,rot=45,grid= True,color=['pink','green',\n",
    "                                                                                  'blue','cyan','magenta'])"
   ]
  },
  {
   "cell_type": "markdown",
   "metadata": {},
   "source": [
    "<p style=\"text-indent:5em\">We see that e-signed have high negative correlation with variables age and current address year and have high positive correlation with amount requested."
   ]
  },
  {
   "cell_type": "markdown",
   "metadata": {},
   "source": [
    "### Building the ANN"
   ]
  },
  {
   "cell_type": "markdown",
   "metadata": {},
   "source": [
    "<p style=\"text-indent:5em\">Artificial neural networks (ANN) or connectionist systems are computing systems vaguely inspired by the biological neural networks that constitute animal brains.Such systems \"learn\" to perform tasks by considering examples, generally without being programmed with task-specific rules. For example, in image recognition, they might learn to identify images that contain cats by analyzing example images that have been manually labeled as \"cat\" or \"no cat\" and using the results to identify cats in other images. They do this without any prior knowledge of cats, for example, that they have fur, tails, whiskers and cat-like faces. Instead, they automatically generate identifying characteristics from the examples that they process.</p>\n",
    "\n",
    "<p style=\"text-indent:5em\">An ANN is based on a collection of connected units or nodes called artificial neurons, which loosely model the neurons in a biological brain. Each connection, like the synapses in a biological brain, can transmit a signal to other neurons. An artificial neuron that receives a signal then processes it and can signal neurons connected to it.</p>\n",
    "<div>\n",
    "<img src=\"img/ann.png\" width=\"500\"/>\n",
    "</div>"
   ]
  },
  {
   "cell_type": "code",
   "execution_count": 8,
   "metadata": {},
   "outputs": [],
   "source": [
    "#Initiatizig into new variable and creating the dummy variable for categorical data\n",
    "data=df\n",
    "dummy=pd.get_dummies(data[\"pay_schedule\"])\n",
    "dummy=dummy.drop(labels=[\"bi-weekly\"],axis=1)"
   ]
  },
  {
   "cell_type": "code",
   "execution_count": 9,
   "metadata": {},
   "outputs": [],
   "source": [
    "#Dropping the categorical column from data\n",
    "data=data.drop([\"pay_schedule\"],axis=1)"
   ]
  },
  {
   "cell_type": "code",
   "execution_count": 10,
   "metadata": {},
   "outputs": [],
   "source": [
    "#MErging the data nad the dimmy variable\n",
    "data=pd.concat([data,dummy],axis=1)"
   ]
  },
  {
   "cell_type": "code",
   "execution_count": 11,
   "metadata": {},
   "outputs": [
    {
     "data": {
      "text/plain": [
       "(17908, 23)"
      ]
     },
     "execution_count": 11,
     "metadata": {},
     "output_type": "execute_result"
    }
   ],
   "source": [
    "#Finding the shape of the merged data\n",
    "data.shape"
   ]
  },
  {
   "cell_type": "code",
   "execution_count": 12,
   "metadata": {},
   "outputs": [],
   "source": [
    "# Seperating the data into dependent and independent varioable. Response contains the esigned column which needs to be computed\n",
    "#from the dataset\n",
    "response = data[\"e_signed\"]\n",
    "dataset = data.drop(columns = [\"e_signed\", \"entry_id\"])"
   ]
  },
  {
   "cell_type": "markdown",
   "metadata": {},
   "source": [
    "#### Data Transformation and Model Building"
   ]
  },
  {
   "cell_type": "markdown",
   "metadata": {},
   "source": [
    "<p style=\"text-indent:5em\">We use StandardScaler to transform our data into same scale.It standardize features by removing the mean and scaling to unit variance</p>\n",
    "\n",
    "The standard score of a sample x is calculated as:\n",
    "\n",
    "<p style=\"text-indent:5em\"><b><i>z = (x - u) / s</b></i><p>\n",
    "\n",
    "where <b>u</b> is the mean of the training samples , and <b>s</b> is the standard deviation of the training samples "
   ]
  },
  {
   "cell_type": "code",
   "execution_count": 13,
   "metadata": {},
   "outputs": [],
   "source": [
    "#Transforming the data using StandardScaler\n",
    "from sklearn.preprocessing import StandardScaler\n",
    "sc_X= StandardScaler()"
   ]
  },
  {
   "cell_type": "code",
   "execution_count": 14,
   "metadata": {},
   "outputs": [],
   "source": [
    "# Splitting into Train and Test Set\n",
    "from sklearn.model_selection import train_test_split\n",
    "X_train, X_test, y_train, y_test = train_test_split(dataset,\n",
    "                                                    response,\n",
    "                                                    test_size = 0.2,\n",
    "                                                    random_state = 0)"
   ]
  },
  {
   "cell_type": "code",
   "execution_count": 15,
   "metadata": {},
   "outputs": [
    {
     "name": "stderr",
     "output_type": "stream",
     "text": [
      "C:\\Users\\Gaurav\\Anaconda3\\lib\\site-packages\\sklearn\\preprocessing\\data.py:645: DataConversionWarning: Data with input dtype uint8, int64, float64 were all converted to float64 by StandardScaler.\n",
      "  return self.partial_fit(X, y)\n",
      "C:\\Users\\Gaurav\\Anaconda3\\lib\\site-packages\\sklearn\\base.py:464: DataConversionWarning: Data with input dtype uint8, int64, float64 were all converted to float64 by StandardScaler.\n",
      "  return self.fit(X, **fit_params).transform(X)\n",
      "C:\\Users\\Gaurav\\Anaconda3\\lib\\site-packages\\ipykernel_launcher.py:3: DataConversionWarning: Data with input dtype uint8, int64, float64 were all converted to float64 by StandardScaler.\n",
      "  This is separate from the ipykernel package so we can avoid doing imports until\n"
     ]
    }
   ],
   "source": [
    "#Fitting and transforming our data\n",
    "X_train=sc_X.fit_transform(X_train)\n",
    "X_test=sc_X.transform(X_test)"
   ]
  },
  {
   "cell_type": "code",
   "execution_count": 16,
   "metadata": {},
   "outputs": [
    {
     "data": {
      "text/plain": [
       "(14326, 21)"
      ]
     },
     "execution_count": 16,
     "metadata": {},
     "output_type": "execute_result"
    }
   ],
   "source": [
    "X_train.shape"
   ]
  },
  {
   "cell_type": "markdown",
   "metadata": {},
   "source": [
    "#### Building ANN Using Keras\n",
    "<p style=\"text-indent:5em\">Keras is a powerful and easy-to-use free open source Python library for developing and evaluating deep learning models.It wraps the efficient numerical computation libraries Theano and TensorFlow and allows you to define and train neural network models in just a few lines of code.\n",
    "    <div>\n",
    "<img src=\"img/keras.png\" width=\"500\"/>\n",
    "</div>"
   ]
  },
  {
   "cell_type": "code",
   "execution_count": 17,
   "metadata": {},
   "outputs": [
    {
     "name": "stderr",
     "output_type": "stream",
     "text": [
      "Using TensorFlow backend.\n"
     ]
    },
    {
     "name": "stdout",
     "output_type": "stream",
     "text": [
      "WARNING:tensorflow:From C:\\Users\\Gaurav\\Anaconda3\\lib\\site-packages\\keras\\backend\\tensorflow_backend.py:66: The name tf.get_default_graph is deprecated. Please use tf.compat.v1.get_default_graph instead.\n",
      "\n"
     ]
    }
   ],
   "source": [
    "# Importing the Keras libraries and packages\n",
    "import keras\n",
    "from keras.models import Sequential\n",
    "from keras.layers import Dense\n",
    "\n",
    "# Initialising the ANN\n",
    "classifier = Sequential()"
   ]
  },
  {
   "cell_type": "code",
   "execution_count": 18,
   "metadata": {},
   "outputs": [
    {
     "name": "stdout",
     "output_type": "stream",
     "text": [
      "WARNING:tensorflow:From C:\\Users\\Gaurav\\Anaconda3\\lib\\site-packages\\keras\\backend\\tensorflow_backend.py:541: The name tf.placeholder is deprecated. Please use tf.compat.v1.placeholder instead.\n",
      "\n",
      "WARNING:tensorflow:From C:\\Users\\Gaurav\\Anaconda3\\lib\\site-packages\\keras\\backend\\tensorflow_backend.py:4432: The name tf.random_uniform is deprecated. Please use tf.random.uniform instead.\n",
      "\n",
      "WARNING:tensorflow:From C:\\Users\\Gaurav\\Anaconda3\\lib\\site-packages\\keras\\optimizers.py:793: The name tf.train.Optimizer is deprecated. Please use tf.compat.v1.train.Optimizer instead.\n",
      "\n",
      "WARNING:tensorflow:From C:\\Users\\Gaurav\\Anaconda3\\lib\\site-packages\\keras\\backend\\tensorflow_backend.py:3657: The name tf.log is deprecated. Please use tf.math.log instead.\n",
      "\n",
      "WARNING:tensorflow:From C:\\Users\\Gaurav\\Anaconda3\\lib\\site-packages\\tensorflow_core\\python\\ops\\nn_impl.py:183: where (from tensorflow.python.ops.array_ops) is deprecated and will be removed in a future version.\n",
      "Instructions for updating:\n",
      "Use tf.where in 2.0, which has the same broadcast rule as np.where\n"
     ]
    }
   ],
   "source": [
    "#Adding the layers in ANN\n",
    "classifier.add(Dense(units = 10, kernel_initializer = 'uniform', activation = 'relu', input_dim = 21))\n",
    "\n",
    "# Adding the second hidden layer\n",
    "classifier.add(Dense(units = 10, kernel_initializer = 'uniform', activation = 'relu'))\n",
    "\n",
    "# Adding the output layer\n",
    "classifier.add(Dense(units = 1, kernel_initializer = 'uniform', activation = 'sigmoid'))\n",
    "\n",
    "# Compiling the ANN using adam optimizer\n",
    "classifier.compile(optimizer = 'adam', loss = 'binary_crossentropy', metrics = ['accuracy'])"
   ]
  },
  {
   "cell_type": "code",
   "execution_count": 19,
   "metadata": {},
   "outputs": [
    {
     "name": "stdout",
     "output_type": "stream",
     "text": [
      "WARNING:tensorflow:From C:\\Users\\Gaurav\\Anaconda3\\lib\\site-packages\\keras\\backend\\tensorflow_backend.py:1033: The name tf.assign_add is deprecated. Please use tf.compat.v1.assign_add instead.\n",
      "\n",
      "WARNING:tensorflow:From C:\\Users\\Gaurav\\Anaconda3\\lib\\site-packages\\keras\\backend\\tensorflow_backend.py:1020: The name tf.assign is deprecated. Please use tf.compat.v1.assign instead.\n",
      "\n",
      "WARNING:tensorflow:From C:\\Users\\Gaurav\\Anaconda3\\lib\\site-packages\\keras\\backend\\tensorflow_backend.py:3005: The name tf.Session is deprecated. Please use tf.compat.v1.Session instead.\n",
      "\n",
      "Epoch 1/100\n",
      "WARNING:tensorflow:From C:\\Users\\Gaurav\\Anaconda3\\lib\\site-packages\\keras\\backend\\tensorflow_backend.py:190: The name tf.get_default_session is deprecated. Please use tf.compat.v1.get_default_session instead.\n",
      "\n",
      "WARNING:tensorflow:From C:\\Users\\Gaurav\\Anaconda3\\lib\\site-packages\\keras\\backend\\tensorflow_backend.py:197: The name tf.ConfigProto is deprecated. Please use tf.compat.v1.ConfigProto instead.\n",
      "\n",
      "WARNING:tensorflow:From C:\\Users\\Gaurav\\Anaconda3\\lib\\site-packages\\keras\\backend\\tensorflow_backend.py:207: The name tf.global_variables is deprecated. Please use tf.compat.v1.global_variables instead.\n",
      "\n",
      "WARNING:tensorflow:From C:\\Users\\Gaurav\\Anaconda3\\lib\\site-packages\\keras\\backend\\tensorflow_backend.py:216: The name tf.is_variable_initialized is deprecated. Please use tf.compat.v1.is_variable_initialized instead.\n",
      "\n",
      "WARNING:tensorflow:From C:\\Users\\Gaurav\\Anaconda3\\lib\\site-packages\\keras\\backend\\tensorflow_backend.py:223: The name tf.variables_initializer is deprecated. Please use tf.compat.v1.variables_initializer instead.\n",
      "\n",
      "14326/14326 [==============================] - 7s 461us/step - loss: 0.6763 - acc: 0.5663\n",
      "Epoch 2/100\n",
      "14326/14326 [==============================] - 5s 349us/step - loss: 0.6660 - acc: 0.5916\n",
      "Epoch 3/100\n",
      "14326/14326 [==============================] - 5s 344us/step - loss: 0.6619 - acc: 0.6031\n",
      "Epoch 4/100\n",
      "14326/14326 [==============================] - 5s 347us/step - loss: 0.6594 - acc: 0.6008\n",
      "Epoch 5/100\n",
      "14326/14326 [==============================] - 5s 347us/step - loss: 0.6575 - acc: 0.6055\n",
      "Epoch 6/100\n",
      "14326/14326 [==============================] - 5s 342us/step - loss: 0.6562 - acc: 0.6067\n",
      "Epoch 7/100\n",
      "14326/14326 [==============================] - 5s 341us/step - loss: 0.6548 - acc: 0.6081\n",
      "Epoch 8/100\n",
      "14326/14326 [==============================] - 5s 342us/step - loss: 0.6542 - acc: 0.6081\n",
      "Epoch 9/100\n",
      "14326/14326 [==============================] - 5s 342us/step - loss: 0.6534 - acc: 0.6100\n",
      "Epoch 10/100\n",
      "14326/14326 [==============================] - 5s 346us/step - loss: 0.6521 - acc: 0.6087\n",
      "Epoch 11/100\n",
      "14326/14326 [==============================] - 5s 368us/step - loss: 0.6511 - acc: 0.6129\n",
      "Epoch 12/100\n",
      "14326/14326 [==============================] - 6s 411us/step - loss: 0.6507 - acc: 0.6140\n",
      "Epoch 13/100\n",
      "14326/14326 [==============================] - 6s 419us/step - loss: 0.6501 - acc: 0.6162\n",
      "Epoch 14/100\n",
      "14326/14326 [==============================] - 6s 416us/step - loss: 0.6496 - acc: 0.6155\n",
      "Epoch 15/100\n",
      "14326/14326 [==============================] - 6s 404us/step - loss: 0.6492 - acc: 0.6171\n",
      "Epoch 16/100\n",
      "14326/14326 [==============================] - 6s 403us/step - loss: 0.6489 - acc: 0.6180\n",
      "Epoch 17/100\n",
      "14326/14326 [==============================] - 6s 414us/step - loss: 0.6484 - acc: 0.6169\n",
      "Epoch 18/100\n",
      "14326/14326 [==============================] - 6s 412us/step - loss: 0.6473 - acc: 0.6188\n",
      "Epoch 19/100\n",
      "14326/14326 [==============================] - 6s 424us/step - loss: 0.6473 - acc: 0.6196\n",
      "Epoch 20/100\n",
      "14326/14326 [==============================] - 6s 427us/step - loss: 0.6473 - acc: 0.6211\n",
      "Epoch 21/100\n",
      "14326/14326 [==============================] - 6s 414us/step - loss: 0.6464 - acc: 0.6188\n",
      "Epoch 22/100\n",
      "14326/14326 [==============================] - 6s 418us/step - loss: 0.6462 - acc: 0.6216\n",
      "Epoch 23/100\n",
      "14326/14326 [==============================] - 6s 415us/step - loss: 0.6455 - acc: 0.6234\n",
      "Epoch 24/100\n",
      "14326/14326 [==============================] - 6s 408us/step - loss: 0.6453 - acc: 0.6231\n",
      "Epoch 25/100\n",
      "14326/14326 [==============================] - 6s 411us/step - loss: 0.6443 - acc: 0.6240\n",
      "Epoch 26/100\n",
      "14326/14326 [==============================] - 6s 414us/step - loss: 0.6442 - acc: 0.6262\n",
      "Epoch 27/100\n",
      "14326/14326 [==============================] - 6s 413us/step - loss: 0.6440 - acc: 0.6263\n",
      "Epoch 28/100\n",
      "14326/14326 [==============================] - 6s 416us/step - loss: 0.6434 - acc: 0.6269\n",
      "Epoch 29/100\n",
      "14326/14326 [==============================] - 6s 411us/step - loss: 0.6431 - acc: 0.6278\n",
      "Epoch 30/100\n",
      "14326/14326 [==============================] - 6s 428us/step - loss: 0.6427 - acc: 0.6273\n",
      "Epoch 31/100\n",
      "14326/14326 [==============================] - 4s 264us/step - loss: 0.6426 - acc: 0.6250\n",
      "Epoch 32/100\n",
      "14326/14326 [==============================] - 6s 405us/step - loss: 0.6417 - acc: 0.6286\n",
      "Epoch 33/100\n",
      "14326/14326 [==============================] - 6s 408us/step - loss: 0.6418 - acc: 0.6275\n",
      "Epoch 34/100\n",
      "14326/14326 [==============================] - 6s 407us/step - loss: 0.6413 - acc: 0.6268\n",
      "Epoch 35/100\n",
      "14326/14326 [==============================] - 6s 409us/step - loss: 0.6409 - acc: 0.6291\n",
      "Epoch 36/100\n",
      "14326/14326 [==============================] - 5s 380us/step - loss: 0.6407 - acc: 0.6263\n",
      "Epoch 37/100\n",
      "14326/14326 [==============================] - 6s 410us/step - loss: 0.6403 - acc: 0.6303\n",
      "Epoch 38/100\n",
      "14326/14326 [==============================] - 6s 415us/step - loss: 0.6402 - acc: 0.6277\n",
      "Epoch 39/100\n",
      "14326/14326 [==============================] - 6s 398us/step - loss: 0.6401 - acc: 0.6266\n",
      "Epoch 40/100\n",
      "14326/14326 [==============================] - 6s 397us/step - loss: 0.6395 - acc: 0.6316\n",
      "Epoch 41/100\n",
      "14326/14326 [==============================] - 5s 354us/step - loss: 0.6390 - acc: 0.6301\n",
      "Epoch 42/100\n",
      "14326/14326 [==============================] - 5s 339us/step - loss: 0.6380 - acc: 0.6314\n",
      "Epoch 43/100\n",
      "14326/14326 [==============================] - 5s 338us/step - loss: 0.6381 - acc: 0.6296\n",
      "Epoch 44/100\n",
      "14326/14326 [==============================] - 5s 341us/step - loss: 0.6375 - acc: 0.6322\n",
      "Epoch 45/100\n",
      "14326/14326 [==============================] - 5s 340us/step - loss: 0.6371 - acc: 0.6281\n",
      "Epoch 46/100\n",
      "14326/14326 [==============================] - 5s 341us/step - loss: 0.6367 - acc: 0.6310\n",
      "Epoch 47/100\n",
      "14326/14326 [==============================] - 5s 336us/step - loss: 0.6363 - acc: 0.6321\n",
      "Epoch 48/100\n",
      "14326/14326 [==============================] - 5s 347us/step - loss: 0.6362 - acc: 0.6298\n",
      "Epoch 49/100\n",
      "14326/14326 [==============================] - 5s 342us/step - loss: 0.6358 - acc: 0.6351\n",
      "Epoch 50/100\n",
      "14326/14326 [==============================] - 4s 312us/step - loss: 0.6355 - acc: 0.6319\n",
      "Epoch 51/100\n",
      "14326/14326 [==============================] - 6s 390us/step - loss: 0.6351 - acc: 0.6311\n",
      "Epoch 52/100\n",
      "14326/14326 [==============================] - 6s 408us/step - loss: 0.6348 - acc: 0.6328\n",
      "Epoch 53/100\n",
      "14326/14326 [==============================] - 6s 409us/step - loss: 0.6345 - acc: 0.6321\n",
      "Epoch 54/100\n",
      "14326/14326 [==============================] - 6s 411us/step - loss: 0.6346 - acc: 0.6304\n",
      "Epoch 55/100\n",
      "14326/14326 [==============================] - 6s 408us/step - loss: 0.6341 - acc: 0.6306\n",
      "Epoch 56/100\n",
      "14326/14326 [==============================] - 6s 411us/step - loss: 0.6342 - acc: 0.6290\n",
      "Epoch 57/100\n",
      "14326/14326 [==============================] - 6s 408us/step - loss: 0.6339 - acc: 0.6305\n",
      "Epoch 58/100\n",
      "14326/14326 [==============================] - 6s 388us/step - loss: 0.6337 - acc: 0.6333\n",
      "Epoch 59/100\n",
      "14326/14326 [==============================] - 6s 405us/step - loss: 0.6339 - acc: 0.6317\n",
      "Epoch 60/100\n",
      "14326/14326 [==============================] - 6s 409us/step - loss: 0.6339 - acc: 0.6325\n",
      "Epoch 61/100\n",
      "14326/14326 [==============================] - 6s 412us/step - loss: 0.6333 - acc: 0.6324\n",
      "Epoch 62/100\n",
      "14326/14326 [==============================] - 6s 409us/step - loss: 0.6327 - acc: 0.6333\n",
      "Epoch 63/100\n",
      "14326/14326 [==============================] - 4s 288us/step - loss: 0.6331 - acc: 0.6360\n",
      "Epoch 64/100\n",
      "14326/14326 [==============================] - 5s 373us/step - loss: 0.6333 - acc: 0.6310\n",
      "Epoch 65/100\n"
     ]
    },
    {
     "name": "stdout",
     "output_type": "stream",
     "text": [
      "14326/14326 [==============================] - 5s 335us/step - loss: 0.6330 - acc: 0.6314\n",
      "Epoch 66/100\n",
      "14326/14326 [==============================] - 5s 344us/step - loss: 0.6329 - acc: 0.6324\n",
      "Epoch 67/100\n",
      "14326/14326 [==============================] - 5s 340us/step - loss: 0.6329 - acc: 0.6328\n",
      "Epoch 68/100\n",
      "14326/14326 [==============================] - 5s 373us/step - loss: 0.6327 - acc: 0.6344\n",
      "Epoch 69/100\n",
      "14326/14326 [==============================] - 6s 394us/step - loss: 0.6326 - acc: 0.6343\n",
      "Epoch 70/100\n",
      "14326/14326 [==============================] - 6s 399us/step - loss: 0.6322 - acc: 0.6337\n",
      "Epoch 71/100\n",
      "14326/14326 [==============================] - 6s 401us/step - loss: 0.6324 - acc: 0.6341\n",
      "Epoch 72/100\n",
      "14326/14326 [==============================] - 6s 399us/step - loss: 0.6325 - acc: 0.6358\n",
      "Epoch 73/100\n",
      "14326/14326 [==============================] - 6s 397us/step - loss: 0.6319 - acc: 0.6382\n",
      "Epoch 74/100\n",
      "14326/14326 [==============================] - 6s 399us/step - loss: 0.6319 - acc: 0.6342\n",
      "Epoch 75/100\n",
      "14326/14326 [==============================] - 6s 398us/step - loss: 0.6320 - acc: 0.6360\n",
      "Epoch 76/100\n",
      "14326/14326 [==============================] - 6s 396us/step - loss: 0.6316 - acc: 0.6346\n",
      "Epoch 77/100\n",
      "14326/14326 [==============================] - 6s 402us/step - loss: 0.6316 - acc: 0.6340\n",
      "Epoch 78/100\n",
      "14326/14326 [==============================] - 6s 397us/step - loss: 0.6318 - acc: 0.6320\n",
      "Epoch 79/100\n",
      "14326/14326 [==============================] - 6s 398us/step - loss: 0.6319 - acc: 0.6356\n",
      "Epoch 80/100\n",
      "14326/14326 [==============================] - 5s 361us/step - loss: 0.6312 - acc: 0.6360\n",
      "Epoch 81/100\n",
      "14326/14326 [==============================] - 6s 397us/step - loss: 0.6313 - acc: 0.6328\n",
      "Epoch 82/100\n",
      "14326/14326 [==============================] - 6s 398us/step - loss: 0.6311 - acc: 0.6364\n",
      "Epoch 83/100\n",
      "14326/14326 [==============================] - 6s 399us/step - loss: 0.6310 - acc: 0.6339\n",
      "Epoch 84/100\n",
      "14326/14326 [==============================] - 6s 410us/step - loss: 0.6307 - acc: 0.6347\n",
      "Epoch 85/100\n",
      "14326/14326 [==============================] - 6s 405us/step - loss: 0.6312 - acc: 0.6360\n",
      "Epoch 86/100\n",
      "14326/14326 [==============================] - 5s 356us/step - loss: 0.6305 - acc: 0.6365\n",
      "Epoch 87/100\n",
      "14326/14326 [==============================] - 6s 397us/step - loss: 0.6312 - acc: 0.6339\n",
      "Epoch 88/100\n",
      "14326/14326 [==============================] - 6s 398us/step - loss: 0.6307 - acc: 0.6371\n",
      "Epoch 89/100\n",
      "14326/14326 [==============================] - 6s 400us/step - loss: 0.6309 - acc: 0.6388\n",
      "Epoch 90/100\n",
      "14326/14326 [==============================] - 6s 406us/step - loss: 0.6308 - acc: 0.6346\n",
      "Epoch 91/100\n",
      "14326/14326 [==============================] - 6s 403us/step - loss: 0.6307 - acc: 0.6348\n",
      "Epoch 92/100\n",
      "14326/14326 [==============================] - 6s 400us/step - loss: 0.6309 - acc: 0.6348\n",
      "Epoch 93/100\n",
      "14326/14326 [==============================] - 6s 403us/step - loss: 0.6303 - acc: 0.6359\n",
      "Epoch 94/100\n",
      "14326/14326 [==============================] - 6s 408us/step - loss: 0.6306 - acc: 0.6342\n",
      "Epoch 95/100\n",
      "14326/14326 [==============================] - 6s 402us/step - loss: 0.6305 - acc: 0.6374\n",
      "Epoch 96/100\n",
      "14326/14326 [==============================] - 6s 392us/step - loss: 0.6306 - acc: 0.6361\n",
      "Epoch 97/100\n",
      "14326/14326 [==============================] - 6s 402us/step - loss: 0.6305 - acc: 0.6368\n",
      "Epoch 98/100\n",
      "14326/14326 [==============================] - 6s 403us/step - loss: 0.6308 - acc: 0.6347\n",
      "Epoch 99/100\n",
      "14326/14326 [==============================] - 6s 410us/step - loss: 0.6302 - acc: 0.6361\n",
      "Epoch 100/100\n",
      "14326/14326 [==============================] - 6s 411us/step - loss: 0.6308 - acc: 0.6343\n"
     ]
    },
    {
     "data": {
      "text/plain": [
       "<keras.callbacks.History at 0x1b32b2f0208>"
      ]
     },
     "execution_count": 19,
     "metadata": {},
     "output_type": "execute_result"
    }
   ],
   "source": [
    "# Fitting the ANN to the Training set\n",
    "classifier.fit(X_train, y_train, batch_size = 10, epochs = 100)"
   ]
  },
  {
   "cell_type": "code",
   "execution_count": 20,
   "metadata": {},
   "outputs": [],
   "source": [
    "#Predict functioon the test data using the model\n",
    "pred=classifier.predict(X_test)"
   ]
  },
  {
   "cell_type": "code",
   "execution_count": 21,
   "metadata": {},
   "outputs": [],
   "source": [
    "#The predict function returns the valur in a range 0 to 1 so we can take the mid point as 0.5 and round off the value to get\n",
    "#discrete output\n",
    "y_pred = (pred > 0.5)"
   ]
  },
  {
   "cell_type": "code",
   "execution_count": 22,
   "metadata": {},
   "outputs": [
    {
     "data": {
      "text/plain": [
       "0.6058068118369626"
      ]
     },
     "execution_count": 22,
     "metadata": {},
     "output_type": "execute_result"
    }
   ],
   "source": [
    "accuracy_score(y_pred,y_test)"
   ]
  },
  {
   "cell_type": "markdown",
   "metadata": {},
   "source": [
    "## Other Machine Learning Model"
   ]
  },
  {
   "cell_type": "markdown",
   "metadata": {},
   "source": [
    "#### Feature Engineering"
   ]
  },
  {
   "cell_type": "markdown",
   "metadata": {},
   "source": [
    "<p style=\"text-indent:5em\">Deep learning neural networks contain hard-coded data processing, feature extraction, and feature engineering and thus doesnt require much of feature engineering but the simple models do need proper feature engineering to get the best results out of it.\n",
    "    \n",
    "<div>\n",
    "    <br>\n",
    "<img src=\"img/ml.jpg\" width=\"500\"/>\n",
    "</div>"
   ]
  },
  {
   "cell_type": "markdown",
   "metadata": {},
   "source": [
    "##### AGE\n",
    "\n",
    "We will group our age data as follows:\n",
    "<div>\n",
    "    <br>\n",
    "<img src=\"img/age_group.png\" width=\"500\"/>\n",
    "</div>"
   ]
  },
  {
   "cell_type": "code",
   "execution_count": 23,
   "metadata": {},
   "outputs": [],
   "source": [
    "#Initializing the Empty List\n",
    "AGE=[]\n",
    "\n",
    "#Looping and appending to AGE\n",
    "for i in range(len(df)):\n",
    "    if(df[\"age\"][i]<30):\n",
    "        AGE.append(\"YOUTH\")\n",
    "    elif(df[\"age\"][i]<=45):\n",
    "        AGE.append(\"ADULT\")\n",
    "    else:\n",
    "        AGE.append(\"SENIOR\")"
   ]
  },
  {
   "cell_type": "markdown",
   "metadata": {},
   "source": [
    "#### Months Employed and Personal Account\n",
    "\n",
    "We will calculate months employed as follows:\n",
    "<br>\n",
    "<p style=\"text-indent:5em\">month employed=month employed+ years employed*12</p>\n",
    "    <p style=\"text-indent:5em\">account_m=account_m+account_y*12</p>\n"
   ]
  },
  {
   "cell_type": "code",
   "execution_count": 24,
   "metadata": {},
   "outputs": [],
   "source": [
    "EMPLOYED=[]\n",
    "for i in range(len(df)):\n",
    "    x=df[\"months_employed\"][i]+df[\"years_employed\"][i]*12\n",
    "    EMPLOYED.append(x)"
   ]
  },
  {
   "cell_type": "code",
   "execution_count": 25,
   "metadata": {},
   "outputs": [],
   "source": [
    "PA=[]\n",
    "for i in range(len(df)):\n",
    "    x=df[\"personal_account_m\"][i]+df[\"personal_account_y\"][i]*12\n",
    "    PA.append(x)"
   ]
  },
  {
   "cell_type": "markdown",
   "metadata": {},
   "source": [
    "#### Risk Score and Ext. Quality Score\n",
    "\n",
    "<p style=\"text-indent:5em\">We will calculate the average of risk score.We have 4 risk score as risk_score_2, risk_score_3, risk_score_4, risk_score_5.We will calculate the average of all risk_scores.In the similar way we can also compute the average od ext_quality."
   ]
  },
  {
   "cell_type": "code",
   "execution_count": 26,
   "metadata": {},
   "outputs": [],
   "source": [
    "avg_risk=[]\n",
    "for i in range(len(df)):\n",
    "    x=(df[\"risk_score_2\"][i]+df[\"risk_score_3\"][i]+df[\"risk_score_4\"][i]+df[\"risk_score_5\"][i])/4\n",
    "    avg_risk.append(x)"
   ]
  },
  {
   "cell_type": "code",
   "execution_count": 27,
   "metadata": {},
   "outputs": [],
   "source": [
    "ext_quality=[]\n",
    "for i in range(len(df)):\n",
    "    x=(df[\"ext_quality_score_2\"][i]+df[\"ext_quality_score\"][i])/2\n",
    "    ext_quality.append(x)"
   ]
  },
  {
   "cell_type": "markdown",
   "metadata": {},
   "source": [
    "#### Merging all the features into Single Dataframe\n",
    "\n",
    "<p style=\"text-indent:5em\">\n",
    "We can now merge all the created features into one dataframe which we will use as the variable to train our model"
   ]
  },
  {
   "cell_type": "code",
   "execution_count": 28,
   "metadata": {},
   "outputs": [],
   "source": [
    "#Converting all lists into DataFrame\n",
    "AGE=pd.DataFrame(AGE)\n",
    "EMPLOYED=pd.DataFrame(EMPLOYED)\n",
    "PA=pd.DataFrame(PA)\n",
    "avg_risk=pd.DataFrame(avg_risk)\n",
    "ext_quality=pd.DataFrame(ext_quality)\n",
    "\n",
    "#Concatng all the features\n",
    "featured=pd.concat([AGE,EMPLOYED,PA,avg_risk,ext_quality],axis=1)"
   ]
  },
  {
   "cell_type": "code",
   "execution_count": 29,
   "metadata": {},
   "outputs": [],
   "source": [
    "featured.columns=[\"AGE\",\"EMPLOYED\",\"PA\",\"RISK\",\"QUALITY\"]"
   ]
  },
  {
   "cell_type": "code",
   "execution_count": 30,
   "metadata": {},
   "outputs": [
    {
     "data": {
      "text/html": [
       "<div>\n",
       "<style scoped>\n",
       "    .dataframe tbody tr th:only-of-type {\n",
       "        vertical-align: middle;\n",
       "    }\n",
       "\n",
       "    .dataframe tbody tr th {\n",
       "        vertical-align: top;\n",
       "    }\n",
       "\n",
       "    .dataframe thead th {\n",
       "        text-align: right;\n",
       "    }\n",
       "</style>\n",
       "<table border=\"1\" class=\"dataframe\">\n",
       "  <thead>\n",
       "    <tr style=\"text-align: right;\">\n",
       "      <th></th>\n",
       "      <th>AGE</th>\n",
       "      <th>EMPLOYED</th>\n",
       "      <th>PA</th>\n",
       "      <th>RISK</th>\n",
       "      <th>QUALITY</th>\n",
       "    </tr>\n",
       "  </thead>\n",
       "  <tbody>\n",
       "    <tr>\n",
       "      <th>0</th>\n",
       "      <td>ADULT</td>\n",
       "      <td>36</td>\n",
       "      <td>30</td>\n",
       "      <td>0.661151</td>\n",
       "      <td>0.480918</td>\n",
       "    </tr>\n",
       "    <tr>\n",
       "      <th>1</th>\n",
       "      <td>SENIOR</td>\n",
       "      <td>72</td>\n",
       "      <td>86</td>\n",
       "      <td>0.789841</td>\n",
       "      <td>0.680720</td>\n",
       "    </tr>\n",
       "    <tr>\n",
       "      <th>2</th>\n",
       "      <td>YOUTH</td>\n",
       "      <td>6</td>\n",
       "      <td>19</td>\n",
       "      <td>0.691712</td>\n",
       "      <td>0.531712</td>\n",
       "    </tr>\n",
       "    <tr>\n",
       "      <th>3</th>\n",
       "      <td>ADULT</td>\n",
       "      <td>72</td>\n",
       "      <td>86</td>\n",
       "      <td>0.793179</td>\n",
       "      <td>0.692552</td>\n",
       "    </tr>\n",
       "    <tr>\n",
       "      <th>4</th>\n",
       "      <td>ADULT</td>\n",
       "      <td>60</td>\n",
       "      <td>98</td>\n",
       "      <td>0.688483</td>\n",
       "      <td>0.744634</td>\n",
       "    </tr>\n",
       "  </tbody>\n",
       "</table>\n",
       "</div>"
      ],
      "text/plain": [
       "      AGE  EMPLOYED  PA      RISK   QUALITY\n",
       "0   ADULT        36  30  0.661151  0.480918\n",
       "1  SENIOR        72  86  0.789841  0.680720\n",
       "2   YOUTH         6  19  0.691712  0.531712\n",
       "3   ADULT        72  86  0.793179  0.692552\n",
       "4   ADULT        60  98  0.688483  0.744634"
      ]
     },
     "execution_count": 30,
     "metadata": {},
     "output_type": "execute_result"
    }
   ],
   "source": [
    "featured.head()"
   ]
  },
  {
   "cell_type": "markdown",
   "metadata": {},
   "source": [
    "#### Dummy Variable\n",
    "\n",
    "<p style=\"text-indent:5em\">A dummy variable (aka, an indicator variable) is a numeric variable that represents categorical data, such as gender, race, political affiliation, etc.\n",
    "Researchers use dummy variables to analyze regression equations when one or more independent variables are categorical. The key to the analysis is to express categorical variables as dummy variables.\n",
    "\n",
    "<p style=\"text-indent:5em\">Technically, dummy variables are dichotomous, quantitative variables; they can take on any two quantitative values. As a practical matter, regression results are easier to interpret when dummy variables take on two specific values, 1 or 0. Typically, 1 represents the presence of a qualitative attribute, and 0 represents the absence.\n",
    "\n",
    "<p style=\"text-indent:5em\">The number of dummy variables required to represent a particular categorical variable depends on the number of values that the categorical variable can assume. To represent a categorical variable that can assume k different values, a researcher would need to define k - 1 dummy variables.\n",
    "    \n",
    "#### Dummy Variable Trap\n",
    "\n",
    "<p style=\"text-indent:5em\">The Dummy variable trap is a scenario where there are attributes which are highly correlated (Multicollinear) and one variable predicts the value of others. When we use one hot encoding for handling the categorical data, then one dummy variable (attribute) can be predicted with the help of other dummy variables. Hence, one dummy variable is highly correlated with other dummy variables. Using all dummy variables for regression models lead to dummy variable trap. So, the regression models should be designed excluding one dummy variable."
   ]
  },
  {
   "cell_type": "code",
   "execution_count": 31,
   "metadata": {},
   "outputs": [
    {
     "data": {
      "text/html": [
       "<div>\n",
       "<style scoped>\n",
       "    .dataframe tbody tr th:only-of-type {\n",
       "        vertical-align: middle;\n",
       "    }\n",
       "\n",
       "    .dataframe tbody tr th {\n",
       "        vertical-align: top;\n",
       "    }\n",
       "\n",
       "    .dataframe thead th {\n",
       "        text-align: right;\n",
       "    }\n",
       "</style>\n",
       "<table border=\"1\" class=\"dataframe\">\n",
       "  <thead>\n",
       "    <tr style=\"text-align: right;\">\n",
       "      <th></th>\n",
       "      <th>SENIOR</th>\n",
       "      <th>YOUTH</th>\n",
       "    </tr>\n",
       "  </thead>\n",
       "  <tbody>\n",
       "    <tr>\n",
       "      <th>0</th>\n",
       "      <td>0</td>\n",
       "      <td>0</td>\n",
       "    </tr>\n",
       "    <tr>\n",
       "      <th>1</th>\n",
       "      <td>1</td>\n",
       "      <td>0</td>\n",
       "    </tr>\n",
       "    <tr>\n",
       "      <th>2</th>\n",
       "      <td>0</td>\n",
       "      <td>1</td>\n",
       "    </tr>\n",
       "    <tr>\n",
       "      <th>3</th>\n",
       "      <td>0</td>\n",
       "      <td>0</td>\n",
       "    </tr>\n",
       "    <tr>\n",
       "      <th>4</th>\n",
       "      <td>0</td>\n",
       "      <td>0</td>\n",
       "    </tr>\n",
       "  </tbody>\n",
       "</table>\n",
       "</div>"
      ],
      "text/plain": [
       "   SENIOR  YOUTH\n",
       "0       0      0\n",
       "1       1      0\n",
       "2       0      1\n",
       "3       0      0\n",
       "4       0      0"
      ]
     },
     "execution_count": 31,
     "metadata": {},
     "output_type": "execute_result"
    }
   ],
   "source": [
    "#Creating Dummy Variable\n",
    "dummy1=pd.get_dummies(featured[\"AGE\"])\n",
    "#Removing a trap\n",
    "dummy1=dummy1.drop(labels=[\"ADULT\"],axis=1)\n",
    "dummy1.head()"
   ]
  },
  {
   "cell_type": "code",
   "execution_count": 32,
   "metadata": {},
   "outputs": [
    {
     "data": {
      "text/html": [
       "<div>\n",
       "<style scoped>\n",
       "    .dataframe tbody tr th:only-of-type {\n",
       "        vertical-align: middle;\n",
       "    }\n",
       "\n",
       "    .dataframe tbody tr th {\n",
       "        vertical-align: top;\n",
       "    }\n",
       "\n",
       "    .dataframe thead th {\n",
       "        text-align: right;\n",
       "    }\n",
       "</style>\n",
       "<table border=\"1\" class=\"dataframe\">\n",
       "  <thead>\n",
       "    <tr style=\"text-align: right;\">\n",
       "      <th></th>\n",
       "      <th>EMPLOYED</th>\n",
       "      <th>PA</th>\n",
       "      <th>RISK</th>\n",
       "      <th>QUALITY</th>\n",
       "      <th>SENIOR</th>\n",
       "      <th>YOUTH</th>\n",
       "    </tr>\n",
       "  </thead>\n",
       "  <tbody>\n",
       "    <tr>\n",
       "      <th>0</th>\n",
       "      <td>36</td>\n",
       "      <td>30</td>\n",
       "      <td>0.661151</td>\n",
       "      <td>0.480918</td>\n",
       "      <td>0</td>\n",
       "      <td>0</td>\n",
       "    </tr>\n",
       "    <tr>\n",
       "      <th>1</th>\n",
       "      <td>72</td>\n",
       "      <td>86</td>\n",
       "      <td>0.789841</td>\n",
       "      <td>0.680720</td>\n",
       "      <td>1</td>\n",
       "      <td>0</td>\n",
       "    </tr>\n",
       "    <tr>\n",
       "      <th>2</th>\n",
       "      <td>6</td>\n",
       "      <td>19</td>\n",
       "      <td>0.691712</td>\n",
       "      <td>0.531712</td>\n",
       "      <td>0</td>\n",
       "      <td>1</td>\n",
       "    </tr>\n",
       "    <tr>\n",
       "      <th>3</th>\n",
       "      <td>72</td>\n",
       "      <td>86</td>\n",
       "      <td>0.793179</td>\n",
       "      <td>0.692552</td>\n",
       "      <td>0</td>\n",
       "      <td>0</td>\n",
       "    </tr>\n",
       "    <tr>\n",
       "      <th>4</th>\n",
       "      <td>60</td>\n",
       "      <td>98</td>\n",
       "      <td>0.688483</td>\n",
       "      <td>0.744634</td>\n",
       "      <td>0</td>\n",
       "      <td>0</td>\n",
       "    </tr>\n",
       "  </tbody>\n",
       "</table>\n",
       "</div>"
      ],
      "text/plain": [
       "   EMPLOYED  PA      RISK   QUALITY  SENIOR  YOUTH\n",
       "0        36  30  0.661151  0.480918       0      0\n",
       "1        72  86  0.789841  0.680720       1      0\n",
       "2         6  19  0.691712  0.531712       0      1\n",
       "3        72  86  0.793179  0.692552       0      0\n",
       "4        60  98  0.688483  0.744634       0      0"
      ]
     },
     "execution_count": 32,
     "metadata": {},
     "output_type": "execute_result"
    }
   ],
   "source": [
    "#Dropping the AGE Variable since dummy variable is created\n",
    "featured=featured.drop([\"AGE\"],axis=1)\n",
    "\n",
    "#Concating the data and dummy variable\n",
    "featured=pd.concat([featured,dummy1],axis=1)\n",
    "featured.head()"
   ]
  },
  {
   "cell_type": "markdown",
   "metadata": {},
   "source": [
    "#### Classifying the Data into dependent and independent Variable"
   ]
  },
  {
   "cell_type": "code",
   "execution_count": 33,
   "metadata": {},
   "outputs": [],
   "source": [
    "#Dependent Variable\n",
    "dep=\"e_signed\"\n",
    "\n",
    "#Selelcting all the column as independent variable\n",
    "ind=df.columns.tolist()"
   ]
  },
  {
   "cell_type": "code",
   "execution_count": 34,
   "metadata": {},
   "outputs": [],
   "source": [
    "#Removing the dependent variable from independent\n",
    "ind.remove(dep)\n",
    "ind.remove(\"entry_id\")"
   ]
  },
  {
   "cell_type": "code",
   "execution_count": 35,
   "metadata": {},
   "outputs": [],
   "source": [
    "#Selecting the Data\n",
    "X=df[ind]\n",
    "Y=df[dep]"
   ]
  },
  {
   "cell_type": "code",
   "execution_count": 36,
   "metadata": {},
   "outputs": [
    {
     "data": {
      "text/html": [
       "<div>\n",
       "<style scoped>\n",
       "    .dataframe tbody tr th:only-of-type {\n",
       "        vertical-align: middle;\n",
       "    }\n",
       "\n",
       "    .dataframe tbody tr th {\n",
       "        vertical-align: top;\n",
       "    }\n",
       "\n",
       "    .dataframe thead th {\n",
       "        text-align: right;\n",
       "    }\n",
       "</style>\n",
       "<table border=\"1\" class=\"dataframe\">\n",
       "  <thead>\n",
       "    <tr style=\"text-align: right;\">\n",
       "      <th></th>\n",
       "      <th>age</th>\n",
       "      <th>pay_schedule</th>\n",
       "      <th>home_owner</th>\n",
       "      <th>income</th>\n",
       "      <th>months_employed</th>\n",
       "      <th>years_employed</th>\n",
       "      <th>current_address_year</th>\n",
       "      <th>personal_account_m</th>\n",
       "      <th>personal_account_y</th>\n",
       "      <th>has_debt</th>\n",
       "      <th>...</th>\n",
       "      <th>risk_score_5</th>\n",
       "      <th>ext_quality_score</th>\n",
       "      <th>ext_quality_score_2</th>\n",
       "      <th>inquiries_last_month</th>\n",
       "      <th>EMPLOYED</th>\n",
       "      <th>PA</th>\n",
       "      <th>RISK</th>\n",
       "      <th>QUALITY</th>\n",
       "      <th>SENIOR</th>\n",
       "      <th>YOUTH</th>\n",
       "    </tr>\n",
       "  </thead>\n",
       "  <tbody>\n",
       "    <tr>\n",
       "      <th>0</th>\n",
       "      <td>40</td>\n",
       "      <td>bi-weekly</td>\n",
       "      <td>1</td>\n",
       "      <td>3135</td>\n",
       "      <td>0</td>\n",
       "      <td>3</td>\n",
       "      <td>3</td>\n",
       "      <td>6</td>\n",
       "      <td>2</td>\n",
       "      <td>1</td>\n",
       "      <td>...</td>\n",
       "      <td>0.515977</td>\n",
       "      <td>0.580918</td>\n",
       "      <td>0.380918</td>\n",
       "      <td>10</td>\n",
       "      <td>36</td>\n",
       "      <td>30</td>\n",
       "      <td>0.661151</td>\n",
       "      <td>0.480918</td>\n",
       "      <td>0</td>\n",
       "      <td>0</td>\n",
       "    </tr>\n",
       "    <tr>\n",
       "      <th>1</th>\n",
       "      <td>61</td>\n",
       "      <td>weekly</td>\n",
       "      <td>0</td>\n",
       "      <td>3180</td>\n",
       "      <td>0</td>\n",
       "      <td>6</td>\n",
       "      <td>3</td>\n",
       "      <td>2</td>\n",
       "      <td>7</td>\n",
       "      <td>1</td>\n",
       "      <td>...</td>\n",
       "      <td>0.826402</td>\n",
       "      <td>0.730720</td>\n",
       "      <td>0.630720</td>\n",
       "      <td>9</td>\n",
       "      <td>72</td>\n",
       "      <td>86</td>\n",
       "      <td>0.789841</td>\n",
       "      <td>0.680720</td>\n",
       "      <td>1</td>\n",
       "      <td>0</td>\n",
       "    </tr>\n",
       "    <tr>\n",
       "      <th>2</th>\n",
       "      <td>23</td>\n",
       "      <td>weekly</td>\n",
       "      <td>0</td>\n",
       "      <td>1540</td>\n",
       "      <td>6</td>\n",
       "      <td>0</td>\n",
       "      <td>0</td>\n",
       "      <td>7</td>\n",
       "      <td>1</td>\n",
       "      <td>1</td>\n",
       "      <td>...</td>\n",
       "      <td>0.762284</td>\n",
       "      <td>0.531712</td>\n",
       "      <td>0.531712</td>\n",
       "      <td>7</td>\n",
       "      <td>6</td>\n",
       "      <td>19</td>\n",
       "      <td>0.691712</td>\n",
       "      <td>0.531712</td>\n",
       "      <td>0</td>\n",
       "      <td>1</td>\n",
       "    </tr>\n",
       "    <tr>\n",
       "      <th>3</th>\n",
       "      <td>40</td>\n",
       "      <td>bi-weekly</td>\n",
       "      <td>0</td>\n",
       "      <td>5230</td>\n",
       "      <td>0</td>\n",
       "      <td>6</td>\n",
       "      <td>1</td>\n",
       "      <td>2</td>\n",
       "      <td>7</td>\n",
       "      <td>1</td>\n",
       "      <td>...</td>\n",
       "      <td>0.778831</td>\n",
       "      <td>0.792552</td>\n",
       "      <td>0.592552</td>\n",
       "      <td>8</td>\n",
       "      <td>72</td>\n",
       "      <td>86</td>\n",
       "      <td>0.793179</td>\n",
       "      <td>0.692552</td>\n",
       "      <td>0</td>\n",
       "      <td>0</td>\n",
       "    </tr>\n",
       "    <tr>\n",
       "      <th>4</th>\n",
       "      <td>33</td>\n",
       "      <td>semi-monthly</td>\n",
       "      <td>0</td>\n",
       "      <td>3590</td>\n",
       "      <td>0</td>\n",
       "      <td>5</td>\n",
       "      <td>2</td>\n",
       "      <td>2</td>\n",
       "      <td>8</td>\n",
       "      <td>1</td>\n",
       "      <td>...</td>\n",
       "      <td>0.665523</td>\n",
       "      <td>0.744634</td>\n",
       "      <td>0.744634</td>\n",
       "      <td>12</td>\n",
       "      <td>60</td>\n",
       "      <td>98</td>\n",
       "      <td>0.688483</td>\n",
       "      <td>0.744634</td>\n",
       "      <td>0</td>\n",
       "      <td>0</td>\n",
       "    </tr>\n",
       "  </tbody>\n",
       "</table>\n",
       "<p>5 rows × 25 columns</p>\n",
       "</div>"
      ],
      "text/plain": [
       "   age  pay_schedule  home_owner  income  months_employed  years_employed  \\\n",
       "0   40     bi-weekly           1    3135                0               3   \n",
       "1   61        weekly           0    3180                0               6   \n",
       "2   23        weekly           0    1540                6               0   \n",
       "3   40     bi-weekly           0    5230                0               6   \n",
       "4   33  semi-monthly           0    3590                0               5   \n",
       "\n",
       "   current_address_year  personal_account_m  personal_account_y  has_debt  \\\n",
       "0                     3                   6                   2         1   \n",
       "1                     3                   2                   7         1   \n",
       "2                     0                   7                   1         1   \n",
       "3                     1                   2                   7         1   \n",
       "4                     2                   2                   8         1   \n",
       "\n",
       "   ...  risk_score_5  ext_quality_score  ext_quality_score_2  \\\n",
       "0  ...      0.515977           0.580918             0.380918   \n",
       "1  ...      0.826402           0.730720             0.630720   \n",
       "2  ...      0.762284           0.531712             0.531712   \n",
       "3  ...      0.778831           0.792552             0.592552   \n",
       "4  ...      0.665523           0.744634             0.744634   \n",
       "\n",
       "   inquiries_last_month  EMPLOYED  PA      RISK   QUALITY  SENIOR  YOUTH  \n",
       "0                    10        36  30  0.661151  0.480918       0      0  \n",
       "1                     9        72  86  0.789841  0.680720       1      0  \n",
       "2                     7         6  19  0.691712  0.531712       0      1  \n",
       "3                     8        72  86  0.793179  0.692552       0      0  \n",
       "4                    12        60  98  0.688483  0.744634       0      0  \n",
       "\n",
       "[5 rows x 25 columns]"
      ]
     },
     "execution_count": 36,
     "metadata": {},
     "output_type": "execute_result"
    }
   ],
   "source": [
    "#Concating the featured data and unfeatured data\n",
    "X=pd.concat([X,featured],axis=1)\n",
    "X.head()"
   ]
  },
  {
   "cell_type": "code",
   "execution_count": 37,
   "metadata": {},
   "outputs": [],
   "source": [
    "#Dropping the unnecessay data from our dataset\n",
    "X=X.drop(labels=[\"age\",\"months_employed\",\"years_employed\",\"personal_account_m\",\"personal_account_y\",\"risk_score_2\",\"risk_score_3\"\n",
    "                ,\"risk_score_4\",\"risk_score_5\",\"ext_quality_score_2\",\"ext_quality_score\"],axis=1)"
   ]
  },
  {
   "cell_type": "code",
   "execution_count": 38,
   "metadata": {},
   "outputs": [
    {
     "data": {
      "text/html": [
       "<div>\n",
       "<style scoped>\n",
       "    .dataframe tbody tr th:only-of-type {\n",
       "        vertical-align: middle;\n",
       "    }\n",
       "\n",
       "    .dataframe tbody tr th {\n",
       "        vertical-align: top;\n",
       "    }\n",
       "\n",
       "    .dataframe thead th {\n",
       "        text-align: right;\n",
       "    }\n",
       "</style>\n",
       "<table border=\"1\" class=\"dataframe\">\n",
       "  <thead>\n",
       "    <tr style=\"text-align: right;\">\n",
       "      <th></th>\n",
       "      <th>pay_schedule</th>\n",
       "      <th>home_owner</th>\n",
       "      <th>income</th>\n",
       "      <th>current_address_year</th>\n",
       "      <th>has_debt</th>\n",
       "      <th>amount_requested</th>\n",
       "      <th>risk_score</th>\n",
       "      <th>inquiries_last_month</th>\n",
       "      <th>EMPLOYED</th>\n",
       "      <th>PA</th>\n",
       "      <th>RISK</th>\n",
       "      <th>QUALITY</th>\n",
       "      <th>SENIOR</th>\n",
       "      <th>YOUTH</th>\n",
       "    </tr>\n",
       "  </thead>\n",
       "  <tbody>\n",
       "    <tr>\n",
       "      <th>0</th>\n",
       "      <td>bi-weekly</td>\n",
       "      <td>1</td>\n",
       "      <td>3135</td>\n",
       "      <td>3</td>\n",
       "      <td>1</td>\n",
       "      <td>550</td>\n",
       "      <td>36200</td>\n",
       "      <td>10</td>\n",
       "      <td>36</td>\n",
       "      <td>30</td>\n",
       "      <td>0.661151</td>\n",
       "      <td>0.480918</td>\n",
       "      <td>0</td>\n",
       "      <td>0</td>\n",
       "    </tr>\n",
       "    <tr>\n",
       "      <th>1</th>\n",
       "      <td>weekly</td>\n",
       "      <td>0</td>\n",
       "      <td>3180</td>\n",
       "      <td>3</td>\n",
       "      <td>1</td>\n",
       "      <td>600</td>\n",
       "      <td>30150</td>\n",
       "      <td>9</td>\n",
       "      <td>72</td>\n",
       "      <td>86</td>\n",
       "      <td>0.789841</td>\n",
       "      <td>0.680720</td>\n",
       "      <td>1</td>\n",
       "      <td>0</td>\n",
       "    </tr>\n",
       "    <tr>\n",
       "      <th>2</th>\n",
       "      <td>weekly</td>\n",
       "      <td>0</td>\n",
       "      <td>1540</td>\n",
       "      <td>0</td>\n",
       "      <td>1</td>\n",
       "      <td>450</td>\n",
       "      <td>34550</td>\n",
       "      <td>7</td>\n",
       "      <td>6</td>\n",
       "      <td>19</td>\n",
       "      <td>0.691712</td>\n",
       "      <td>0.531712</td>\n",
       "      <td>0</td>\n",
       "      <td>1</td>\n",
       "    </tr>\n",
       "    <tr>\n",
       "      <th>3</th>\n",
       "      <td>bi-weekly</td>\n",
       "      <td>0</td>\n",
       "      <td>5230</td>\n",
       "      <td>1</td>\n",
       "      <td>1</td>\n",
       "      <td>700</td>\n",
       "      <td>42150</td>\n",
       "      <td>8</td>\n",
       "      <td>72</td>\n",
       "      <td>86</td>\n",
       "      <td>0.793179</td>\n",
       "      <td>0.692552</td>\n",
       "      <td>0</td>\n",
       "      <td>0</td>\n",
       "    </tr>\n",
       "    <tr>\n",
       "      <th>4</th>\n",
       "      <td>semi-monthly</td>\n",
       "      <td>0</td>\n",
       "      <td>3590</td>\n",
       "      <td>2</td>\n",
       "      <td>1</td>\n",
       "      <td>1100</td>\n",
       "      <td>53850</td>\n",
       "      <td>12</td>\n",
       "      <td>60</td>\n",
       "      <td>98</td>\n",
       "      <td>0.688483</td>\n",
       "      <td>0.744634</td>\n",
       "      <td>0</td>\n",
       "      <td>0</td>\n",
       "    </tr>\n",
       "  </tbody>\n",
       "</table>\n",
       "</div>"
      ],
      "text/plain": [
       "   pay_schedule  home_owner  income  current_address_year  has_debt  \\\n",
       "0     bi-weekly           1    3135                     3         1   \n",
       "1        weekly           0    3180                     3         1   \n",
       "2        weekly           0    1540                     0         1   \n",
       "3     bi-weekly           0    5230                     1         1   \n",
       "4  semi-monthly           0    3590                     2         1   \n",
       "\n",
       "   amount_requested  risk_score  inquiries_last_month  EMPLOYED  PA      RISK  \\\n",
       "0               550       36200                    10        36  30  0.661151   \n",
       "1               600       30150                     9        72  86  0.789841   \n",
       "2               450       34550                     7         6  19  0.691712   \n",
       "3               700       42150                     8        72  86  0.793179   \n",
       "4              1100       53850                    12        60  98  0.688483   \n",
       "\n",
       "    QUALITY  SENIOR  YOUTH  \n",
       "0  0.480918       0      0  \n",
       "1  0.680720       1      0  \n",
       "2  0.531712       0      1  \n",
       "3  0.692552       0      0  \n",
       "4  0.744634       0      0  "
      ]
     },
     "execution_count": 38,
     "metadata": {},
     "output_type": "execute_result"
    }
   ],
   "source": [
    "X.head()"
   ]
  },
  {
   "cell_type": "code",
   "execution_count": 39,
   "metadata": {},
   "outputs": [
    {
     "data": {
      "text/html": [
       "<div>\n",
       "<style scoped>\n",
       "    .dataframe tbody tr th:only-of-type {\n",
       "        vertical-align: middle;\n",
       "    }\n",
       "\n",
       "    .dataframe tbody tr th {\n",
       "        vertical-align: top;\n",
       "    }\n",
       "\n",
       "    .dataframe thead th {\n",
       "        text-align: right;\n",
       "    }\n",
       "</style>\n",
       "<table border=\"1\" class=\"dataframe\">\n",
       "  <thead>\n",
       "    <tr style=\"text-align: right;\">\n",
       "      <th></th>\n",
       "      <th>monthly</th>\n",
       "      <th>semi-monthly</th>\n",
       "      <th>weekly</th>\n",
       "    </tr>\n",
       "  </thead>\n",
       "  <tbody>\n",
       "    <tr>\n",
       "      <th>0</th>\n",
       "      <td>0</td>\n",
       "      <td>0</td>\n",
       "      <td>0</td>\n",
       "    </tr>\n",
       "    <tr>\n",
       "      <th>1</th>\n",
       "      <td>0</td>\n",
       "      <td>0</td>\n",
       "      <td>1</td>\n",
       "    </tr>\n",
       "    <tr>\n",
       "      <th>2</th>\n",
       "      <td>0</td>\n",
       "      <td>0</td>\n",
       "      <td>1</td>\n",
       "    </tr>\n",
       "    <tr>\n",
       "      <th>3</th>\n",
       "      <td>0</td>\n",
       "      <td>0</td>\n",
       "      <td>0</td>\n",
       "    </tr>\n",
       "    <tr>\n",
       "      <th>4</th>\n",
       "      <td>0</td>\n",
       "      <td>1</td>\n",
       "      <td>0</td>\n",
       "    </tr>\n",
       "  </tbody>\n",
       "</table>\n",
       "</div>"
      ],
      "text/plain": [
       "   monthly  semi-monthly  weekly\n",
       "0        0             0       0\n",
       "1        0             0       1\n",
       "2        0             0       1\n",
       "3        0             0       0\n",
       "4        0             1       0"
      ]
     },
     "execution_count": 39,
     "metadata": {},
     "output_type": "execute_result"
    }
   ],
   "source": [
    "#Creating Dummy Variable\n",
    "dummy2=pd.get_dummies(X[\"pay_schedule\"])\n",
    "\n",
    "#Removing the trap\n",
    "dummy2=dummy2.drop(labels=[\"bi-weekly\"],axis=1)\n",
    "dummy2.head()"
   ]
  },
  {
   "cell_type": "code",
   "execution_count": 40,
   "metadata": {},
   "outputs": [
    {
     "data": {
      "text/html": [
       "<div>\n",
       "<style scoped>\n",
       "    .dataframe tbody tr th:only-of-type {\n",
       "        vertical-align: middle;\n",
       "    }\n",
       "\n",
       "    .dataframe tbody tr th {\n",
       "        vertical-align: top;\n",
       "    }\n",
       "\n",
       "    .dataframe thead th {\n",
       "        text-align: right;\n",
       "    }\n",
       "</style>\n",
       "<table border=\"1\" class=\"dataframe\">\n",
       "  <thead>\n",
       "    <tr style=\"text-align: right;\">\n",
       "      <th></th>\n",
       "      <th>home_owner</th>\n",
       "      <th>income</th>\n",
       "      <th>current_address_year</th>\n",
       "      <th>has_debt</th>\n",
       "      <th>amount_requested</th>\n",
       "      <th>risk_score</th>\n",
       "      <th>inquiries_last_month</th>\n",
       "      <th>EMPLOYED</th>\n",
       "      <th>PA</th>\n",
       "      <th>RISK</th>\n",
       "      <th>QUALITY</th>\n",
       "      <th>SENIOR</th>\n",
       "      <th>YOUTH</th>\n",
       "      <th>monthly</th>\n",
       "      <th>semi-monthly</th>\n",
       "      <th>weekly</th>\n",
       "    </tr>\n",
       "  </thead>\n",
       "  <tbody>\n",
       "    <tr>\n",
       "      <th>0</th>\n",
       "      <td>1</td>\n",
       "      <td>3135</td>\n",
       "      <td>3</td>\n",
       "      <td>1</td>\n",
       "      <td>550</td>\n",
       "      <td>36200</td>\n",
       "      <td>10</td>\n",
       "      <td>36</td>\n",
       "      <td>30</td>\n",
       "      <td>0.661151</td>\n",
       "      <td>0.480918</td>\n",
       "      <td>0</td>\n",
       "      <td>0</td>\n",
       "      <td>0</td>\n",
       "      <td>0</td>\n",
       "      <td>0</td>\n",
       "    </tr>\n",
       "    <tr>\n",
       "      <th>1</th>\n",
       "      <td>0</td>\n",
       "      <td>3180</td>\n",
       "      <td>3</td>\n",
       "      <td>1</td>\n",
       "      <td>600</td>\n",
       "      <td>30150</td>\n",
       "      <td>9</td>\n",
       "      <td>72</td>\n",
       "      <td>86</td>\n",
       "      <td>0.789841</td>\n",
       "      <td>0.680720</td>\n",
       "      <td>1</td>\n",
       "      <td>0</td>\n",
       "      <td>0</td>\n",
       "      <td>0</td>\n",
       "      <td>1</td>\n",
       "    </tr>\n",
       "    <tr>\n",
       "      <th>2</th>\n",
       "      <td>0</td>\n",
       "      <td>1540</td>\n",
       "      <td>0</td>\n",
       "      <td>1</td>\n",
       "      <td>450</td>\n",
       "      <td>34550</td>\n",
       "      <td>7</td>\n",
       "      <td>6</td>\n",
       "      <td>19</td>\n",
       "      <td>0.691712</td>\n",
       "      <td>0.531712</td>\n",
       "      <td>0</td>\n",
       "      <td>1</td>\n",
       "      <td>0</td>\n",
       "      <td>0</td>\n",
       "      <td>1</td>\n",
       "    </tr>\n",
       "    <tr>\n",
       "      <th>3</th>\n",
       "      <td>0</td>\n",
       "      <td>5230</td>\n",
       "      <td>1</td>\n",
       "      <td>1</td>\n",
       "      <td>700</td>\n",
       "      <td>42150</td>\n",
       "      <td>8</td>\n",
       "      <td>72</td>\n",
       "      <td>86</td>\n",
       "      <td>0.793179</td>\n",
       "      <td>0.692552</td>\n",
       "      <td>0</td>\n",
       "      <td>0</td>\n",
       "      <td>0</td>\n",
       "      <td>0</td>\n",
       "      <td>0</td>\n",
       "    </tr>\n",
       "    <tr>\n",
       "      <th>4</th>\n",
       "      <td>0</td>\n",
       "      <td>3590</td>\n",
       "      <td>2</td>\n",
       "      <td>1</td>\n",
       "      <td>1100</td>\n",
       "      <td>53850</td>\n",
       "      <td>12</td>\n",
       "      <td>60</td>\n",
       "      <td>98</td>\n",
       "      <td>0.688483</td>\n",
       "      <td>0.744634</td>\n",
       "      <td>0</td>\n",
       "      <td>0</td>\n",
       "      <td>0</td>\n",
       "      <td>1</td>\n",
       "      <td>0</td>\n",
       "    </tr>\n",
       "  </tbody>\n",
       "</table>\n",
       "</div>"
      ],
      "text/plain": [
       "   home_owner  income  current_address_year  has_debt  amount_requested  \\\n",
       "0           1    3135                     3         1               550   \n",
       "1           0    3180                     3         1               600   \n",
       "2           0    1540                     0         1               450   \n",
       "3           0    5230                     1         1               700   \n",
       "4           0    3590                     2         1              1100   \n",
       "\n",
       "   risk_score  inquiries_last_month  EMPLOYED  PA      RISK   QUALITY  SENIOR  \\\n",
       "0       36200                    10        36  30  0.661151  0.480918       0   \n",
       "1       30150                     9        72  86  0.789841  0.680720       1   \n",
       "2       34550                     7         6  19  0.691712  0.531712       0   \n",
       "3       42150                     8        72  86  0.793179  0.692552       0   \n",
       "4       53850                    12        60  98  0.688483  0.744634       0   \n",
       "\n",
       "   YOUTH  monthly  semi-monthly  weekly  \n",
       "0      0        0             0       0  \n",
       "1      0        0             0       1  \n",
       "2      1        0             0       1  \n",
       "3      0        0             0       0  \n",
       "4      0        0             1       0  "
      ]
     },
     "execution_count": 40,
     "metadata": {},
     "output_type": "execute_result"
    }
   ],
   "source": [
    "#Dropping the pay_schedule since dummy variable is created\n",
    "X=X.drop(labels=[\"pay_schedule\"],axis=1)\n",
    "\n",
    "#Concating the data and dummy variable\n",
    "X=pd.concat([X,dummy2],axis=1)\n",
    "X.head()"
   ]
  },
  {
   "cell_type": "markdown",
   "metadata": {},
   "source": [
    "#### Data Transformation and Model Building"
   ]
  },
  {
   "cell_type": "code",
   "execution_count": 41,
   "metadata": {},
   "outputs": [],
   "source": [
    "from sklearn.model_selection import train_test_split\n",
    "from sklearn.preprocessing import StandardScaler"
   ]
  },
  {
   "cell_type": "markdown",
   "metadata": {},
   "source": [
    "<p style=\"text-indent:5em\">We here use the same scaling method that we used for training ANN.</p>"
   ]
  },
  {
   "cell_type": "code",
   "execution_count": 42,
   "metadata": {},
   "outputs": [
    {
     "name": "stderr",
     "output_type": "stream",
     "text": [
      "C:\\Users\\Gaurav\\Anaconda3\\lib\\site-packages\\sklearn\\preprocessing\\data.py:645: DataConversionWarning: Data with input dtype uint8, int64, float64 were all converted to float64 by StandardScaler.\n",
      "  return self.partial_fit(X, y)\n",
      "C:\\Users\\Gaurav\\Anaconda3\\lib\\site-packages\\sklearn\\base.py:464: DataConversionWarning: Data with input dtype uint8, int64, float64 were all converted to float64 by StandardScaler.\n",
      "  return self.fit(X, **fit_params).transform(X)\n"
     ]
    }
   ],
   "source": [
    "scale=StandardScaler()\n",
    "#Transforming the data\n",
    "X=scale.fit_transform(X)"
   ]
  },
  {
   "cell_type": "markdown",
   "metadata": {},
   "source": [
    "##### Splitting the Data"
   ]
  },
  {
   "cell_type": "markdown",
   "metadata": {},
   "source": [
    "<p style=\"text-indent:5em\">It is standard in ML to split data into training and test sets. The reason for\n",
    "this is very straightforward: if you try and evaluate your system on data you\n",
    "have trained it on, you are doing something unrealistic. The whole point of a\n",
    "machine learning system is to be able to work with unseen data: if you know\n",
    "you are going to see all possible values in your training data, you might as well\n",
    "just use some form of lookup.<br>\n",
    "<a href=\"https://www.cl.cam.ac.uk/teaching/1617/MLRD/handbook/dataset-splits.pdf\">Read More Here</a>"
   ]
  },
  {
   "cell_type": "code",
   "execution_count": 44,
   "metadata": {},
   "outputs": [],
   "source": [
    "from sklearn.model_selection import train_test_split\n",
    "xtrain,xtest,ytrain,ytest=train_test_split(X,Y,test_size=0.25,random_state=0)"
   ]
  },
  {
   "cell_type": "code",
   "execution_count": 45,
   "metadata": {},
   "outputs": [
    {
     "data": {
      "image/png": "[encoded data removed]",
      "text/plain": [
       "<Figure size 432x288 with 1 Axes>"
      ]
     },
     "metadata": {
      "needs_background": "light"
     },
     "output_type": "display_data"
    }
   ],
   "source": [
    "# Cross validate model with Kfold stratified cross val\n",
    "kfold = StratifiedKFold(n_splits=10)\n",
    "\n",
    "# Modeling step Test differents algorithms \n",
    "#We will compare different algorithm using roc_auc value and will implememt the best algorithm\n",
    "random_state = 7\n",
    "classifiers = []\n",
    "classifiers.append(SVC(random_state=random_state))\n",
    "classifiers.append(DecisionTreeClassifier(random_state=random_state))\n",
    "classifiers.append(AdaBoostClassifier(DecisionTreeClassifier(random_state=random_state),random_state=random_state,learning_rate=0.1))\n",
    "classifiers.append(RandomForestClassifier(random_state=random_state))\n",
    "classifiers.append(ExtraTreesClassifier(random_state=random_state))\n",
    "classifiers.append(GradientBoostingClassifier(random_state=random_state))\n",
    "classifiers.append(MLPClassifier(random_state=random_state))\n",
    "classifiers.append(KNeighborsClassifier())\n",
    "classifiers.append(LogisticRegression(random_state = random_state))\n",
    "classifiers.append(LinearDiscriminantAnalysis())\n",
    "\n",
    "cv_results = []\n",
    "for classifier in classifiers :\n",
    "    cv_results.append(cross_val_score(classifier,X=xtrain, y = ytrain, scoring = \"accuracy\", cv = kfold, n_jobs=4))\n",
    "\n",
    "cv_means = []\n",
    "cv_std = []\n",
    "for cv_result in cv_results:\n",
    "    cv_means.append(cv_result.mean())\n",
    "    cv_std.append(cv_result.std())\n",
    "\n",
    "cv_res = pd.DataFrame({\"CrossValMeans\":cv_means,\"CrossValerrors\": cv_std,\"Algorithm\":[\"SVC\",\"DecisionTree\",\"AdaBoost\",\n",
    "\"RandomForest\",\"ExtraTrees\",\"GradientBoosting\",\"MultipleLayerPerceptron\",\"KNeighboors\",\"LogisticRegression\",\"LinearDiscriminantAnalysis\"]})\n",
    "\n",
    "g = sns.barplot(\"CrossValMeans\",\"Algorithm\",data = cv_res, palette=\"Set3\",orient = \"h\",**{'xerr':cv_std})\n",
    "g.set_xlabel(\"Mean Accuracy\")\n",
    "g = g.set_title(\"Cross validation scores\")"
   ]
  },
  {
   "cell_type": "markdown",
   "metadata": {},
   "source": [
    "## Random Forest"
   ]
  },
  {
   "cell_type": "markdown",
   "metadata": {},
   "source": [
    "<p style=\"text-indent:5em\">Random forest is a supervised learning algorithm which is used for both classification as well as regression. But however, it is mainly used for classification problems. As we know that a forest is made up of trees and more trees means more robust forest. Similarly, random forest algorithm creates decision trees on data samples and then gets the prediction from each of them and finally selects the best solution by means of voting. It is an ensemble method which is better than a single decision tree because it reduces the over-fitting by averaging the result.</p>\n",
    "\n",
    "\n",
    "<div>\n",
    "    <br>\n",
    "<img src=\"img/random_working.png\" width=\"800\"/>\n",
    "</div>"
   ]
  },
  {
   "cell_type": "markdown",
   "metadata": {},
   "source": [
    "<div>\n",
    "    <br>\n",
    "<img src=\"img/random.png\" width=\"600\"/>\n",
    "</div>"
   ]
  },
  {
   "cell_type": "code",
   "execution_count": 46,
   "metadata": {},
   "outputs": [],
   "source": [
    "#Initializing the object\n",
    "model=RandomForestClassifier()"
   ]
  },
  {
   "cell_type": "code",
   "execution_count": 47,
   "metadata": {},
   "outputs": [
    {
     "name": "stderr",
     "output_type": "stream",
     "text": [
      "C:\\Users\\Gaurav\\Anaconda3\\lib\\site-packages\\sklearn\\ensemble\\forest.py:246: FutureWarning: The default value of n_estimators will change from 10 in version 0.20 to 100 in 0.22.\n",
      "  \"10 in version 0.20 to 100 in 0.22.\", FutureWarning)\n"
     ]
    },
    {
     "data": {
      "text/plain": [
       "RandomForestClassifier(bootstrap=True, class_weight=None, criterion='gini',\n",
       "            max_depth=None, max_features='auto', max_leaf_nodes=None,\n",
       "            min_impurity_decrease=0.0, min_impurity_split=None,\n",
       "            min_samples_leaf=1, min_samples_split=2,\n",
       "            min_weight_fraction_leaf=0.0, n_estimators=10, n_jobs=None,\n",
       "            oob_score=False, random_state=None, verbose=0,\n",
       "            warm_start=False)"
      ]
     },
     "execution_count": 47,
     "metadata": {},
     "output_type": "execute_result"
    }
   ],
   "source": [
    "#Fitting the model\n",
    "model.fit(xtrain,ytrain)"
   ]
  },
  {
   "cell_type": "code",
   "execution_count": 48,
   "metadata": {},
   "outputs": [],
   "source": [
    "#Predictions on test data\n",
    "pred=model.predict(xtest)"
   ]
  },
  {
   "cell_type": "code",
   "execution_count": 49,
   "metadata": {},
   "outputs": [
    {
     "data": {
      "text/plain": [
       "0.5749385749385749"
      ]
     },
     "execution_count": 49,
     "metadata": {},
     "output_type": "execute_result"
    }
   ],
   "source": [
    "accuracy_score(ytest,pred)"
   ]
  },
  {
   "cell_type": "markdown",
   "metadata": {},
   "source": [
    "### Gradient Boosting"
   ]
  },
  {
   "cell_type": "markdown",
   "metadata": {},
   "source": [
    "<p style=\"text-indent:5em\">Gradient boosting is a machine learning technique for regression and classification problems, which produces a prediction model in the form of an ensemble of weak prediction models, typically decision trees.\n",
    "The logic behind gradient boosting is simple, (can be understood intuitively, without using mathematical notation). I expect that whoever is reading this post might be familiar with simple linear regression modeling.\n",
    "A basic assumption of linear regression is that sum of its residuals is 0, i.e. the residuals should be spread randomly around zero.\n",
    "\n",
    "<div>\n",
    "    <br>\n",
    "<img src=\"img/gradient.png\" width=\"600\"/>\n",
    "</div>\n",
    "\n",
    "<p style=\"text-indent:5em\">Now think of these residuals as mistakes committed by our predictor model. Although, tree-based models (considering decision tree as base models for our gradient boosting here) are not based on such assumptions, but if we think logically (not statistically) about this assumption, we might argue that, if we are able to see some pattern of residuals around 0, we can leverage that pattern to fit a model.\n",
    "<p style=\"text-indent:5em\">So, the intuition behind gradient boosting algorithm is to repetitively leverage the patterns in residuals and strengthen a model with weak predictions and make it better. Once we reach a stage that residuals do not have any pattern that could be modeled, we can stop modeling residuals (otherwise it might lead to overfitting). Algorithmically, we are minimizing our loss function, such that test loss reach its minima.\n",
    "\n",
    "<br>\n",
    "\n",
    "<a href=\"https://medium.com/mlreview/gradient-boosting-from-scratch-1e317ae4587d\">Read More</a>"
   ]
  },
  {
   "cell_type": "code",
   "execution_count": 50,
   "metadata": {},
   "outputs": [],
   "source": [
    "lr_list = [0.05, 0.075, 0.1, 0.25, 0.5, 0.75, 1]\n",
    "\n",
    "for learning_rate in lr_list:\n",
    "    gb_clf = GradientBoostingClassifier(n_estimators=20, learning_rate=learning_rate, max_features=2, max_depth=2, random_state=0)\n",
    "    gb_clf.fit(xtrain, ytrain)"
   ]
  },
  {
   "cell_type": "code",
   "execution_count": 51,
   "metadata": {},
   "outputs": [
    {
     "name": "stdout",
     "output_type": "stream",
     "text": [
      "Learning rate:  1\n",
      "Accuracy score (training): 0.615\n",
      "Accuracy score (validation): 0.584\n"
     ]
    }
   ],
   "source": [
    "print(\"Learning rate: \", learning_rate)\n",
    "print(\"Accuracy score (training): {0:.3f}\".format(gb_clf.score(xtrain, ytrain)))\n",
    "print(\"Accuracy score (validation): {0:.3f}\".format(gb_clf.score(xtest, ytest)))"
   ]
  },
  {
   "cell_type": "markdown",
   "metadata": {},
   "source": [
    "### XgBoost\n",
    "\n",
    "<p style=\"text-indent:5em\">XGBoost is an ensemble learning method. Sometimes, it may not be sufficient to rely upon the results of just one machine learning model. Ensemble learning offers a systematic solution to combine the predictive power of multiple learners. The resultant is a single model which gives the aggregated output from several models.\n",
    "\n",
    "<p style=\"text-indent:5em\">The models that form the ensemble, also known as base learners, could be either from the same learning algorithm or different learning algorithms. Bagging and boosting are two widely used ensemble learners. Though these two techniques can be used with several statistical models, the most predominant usage has been with decision trees.</p>\n",
    "\n",
    "<a href=\"https://www.analyticsvidhya.com/blog/2018/09/an-end-to-end-guide-to-understand-the-math-behind-xgboost/\">Read More</a>\n",
    "\n",
    "<div>\n",
    "    <br>\n",
    "<img src=\"img/xg_boost.jpeg\" width=\"600\"/>\n",
    "</div>"
   ]
  },
  {
   "cell_type": "code",
   "execution_count": 52,
   "metadata": {},
   "outputs": [],
   "source": [
    "#Implementing xgboost\n",
    "from xgboost import XGBClassifier"
   ]
  },
  {
   "cell_type": "code",
   "execution_count": 53,
   "metadata": {},
   "outputs": [
    {
     "data": {
      "text/plain": [
       "XGBClassifier(base_score=0.5, booster='gbtree', colsample_bylevel=1,\n",
       "       colsample_bynode=1, colsample_bytree=1, gamma=0, learning_rate=0.1,\n",
       "       max_delta_step=0, max_depth=3, min_child_weight=1, missing=None,\n",
       "       n_estimators=100, n_jobs=1, nthread=None,\n",
       "       objective='binary:logistic', random_state=0, reg_alpha=0,\n",
       "       reg_lambda=1, scale_pos_weight=1, seed=None, silent=None,\n",
       "       subsample=1, verbosity=1)"
      ]
     },
     "execution_count": 53,
     "metadata": {},
     "output_type": "execute_result"
    }
   ],
   "source": [
    "#Initializing the model\n",
    "xgb_clf = XGBClassifier()\n",
    "xgb_clf.fit(xtrain, ytrain)"
   ]
  },
  {
   "cell_type": "code",
   "execution_count": 54,
   "metadata": {},
   "outputs": [
    {
     "name": "stdout",
     "output_type": "stream",
     "text": [
      "0.6332365423274514\n"
     ]
    }
   ],
   "source": [
    "score = xgb_clf.score(xtest, ytest)\n",
    "print(score)"
   ]
  },
  {
   "cell_type": "markdown",
   "metadata": {},
   "source": [
    "#### Support Vector Machine\n",
    "\n",
    "<p style=\"text-indent:5em\">A support vector machine (SVM) is a supervised machine learning model that uses classification algorithms for two-group classification problems. After giving an SVM model sets of labeled training data for either of two categories, they’re able to categorize new examples..\n",
    "    \n",
    "<br>\n",
    "<img src=\"img/sv.jpg\" height=100px >\n",
    "  \n",
    "  \n",
    "<br>\n",
    "<p>For more reading click <a href=\"https://monkeylearn.com/blog/introduction-to-support-vector-machines-svm/\">here</a>.<br><br>\n",
    "    \n",
    "<br>"
   ]
  },
  {
   "cell_type": "code",
   "execution_count": 55,
   "metadata": {},
   "outputs": [
    {
     "name": "stderr",
     "output_type": "stream",
     "text": [
      "C:\\Users\\Gaurav\\Anaconda3\\lib\\site-packages\\sklearn\\svm\\base.py:196: FutureWarning: The default value of gamma will change from 'auto' to 'scale' in version 0.22 to account better for unscaled features. Set gamma explicitly to 'auto' or 'scale' to avoid this warning.\n",
      "  \"avoid this warning.\", FutureWarning)\n"
     ]
    },
    {
     "data": {
      "text/plain": [
       "SVC(C=1.0, cache_size=200, class_weight=None, coef0=0.0,\n",
       "  decision_function_shape='ovr', degree=3, gamma='auto_deprecated',\n",
       "  kernel='rbf', max_iter=-1, probability=False, random_state=0,\n",
       "  shrinking=True, tol=0.001, verbose=False)"
      ]
     },
     "execution_count": 55,
     "metadata": {},
     "output_type": "execute_result"
    }
   ],
   "source": [
    "from sklearn.svm import SVC\n",
    "classifier = SVC(random_state = 0, kernel = 'rbf')\n",
    "classifier.fit(xtrain, ytrain)"
   ]
  },
  {
   "cell_type": "code",
   "execution_count": 56,
   "metadata": {},
   "outputs": [],
   "source": [
    "# Predicting Test Set\n",
    "y_pred = classifier.predict(xtest)"
   ]
  },
  {
   "cell_type": "code",
   "execution_count": 57,
   "metadata": {},
   "outputs": [
    {
     "data": {
      "text/plain": [
       "0.5928076837167746"
      ]
     },
     "execution_count": 57,
     "metadata": {},
     "output_type": "execute_result"
    }
   ],
   "source": [
    "#Finding the Accuracy Score\n",
    "acc = accuracy_score(ytest, y_pred)\n",
    "acc"
   ]
  },
  {
   "cell_type": "markdown",
   "metadata": {},
   "source": [
    "<center><h2><u>Conclusion</u><h2></center>\n",
    "    \n",
    " <ul>\n",
    "    <li>XgBoost Algorithm performs the best and give the accuracy of 63.3 %</li>\n",
    "    <li>We see that the ANN with no feature engineering performs far better than SVM, Random Forest with feature engineering</li>\n",
    "    <li>Though we didnt get very high accuracy but this can help the banks in knowing whether the customer is risky or not.</li>\n",
    "</ul>"
   ]
  },
  {
   "cell_type": "code",
   "execution_count": null,
   "metadata": {},
   "outputs": [],
   "source": []
  }
 ],
 "metadata": {
  "kernelspec": {
   "display_name": "Python 3",
   "language": "python",
   "name": "python3"
  },
  "language_info": {
   "codemirror_mode": {
    "name": "ipython",
    "version": 3
   },
   "file_extension": ".py",
   "mimetype": "text/x-python",
   "name": "python",
   "nbconvert_exporter": "python",
   "pygments_lexer": "ipython3",
   "version": "3.6.6"
  }
 },
 "nbformat": 4,
 "nbformat_minor": 2
}
